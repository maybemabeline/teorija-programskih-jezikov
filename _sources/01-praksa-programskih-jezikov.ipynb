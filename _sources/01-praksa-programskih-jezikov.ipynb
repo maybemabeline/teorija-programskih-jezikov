{
 "cells": [
  {
   "cell_type": "markdown",
   "id": "1c05c6af",
   "metadata": {},
   "source": [
    "# Praksa programskih jezikov"
   ]
  },
  {
   "cell_type": "code",
   "execution_count": 1,
   "id": "afedf27a",
   "metadata": {
    "tags": [
     "remove-cell",
     "remove-stdout"
    ]
   },
   "outputs": [],
   "source": [
    "(* Ko se v Jupytru prvič požene OCaml, program Findlib izpiše neko sporočilo.\n",
    "   Da se to sporočilo ne bi videlo v zapiskih, je tu ta celica, ki sproži izpis,\n",
    "   vendar ima nastavljeno, da je v zapiskih v celoti skrita. *)"
   ]
  },
  {
   "cell_type": "markdown",
   "id": "8052085a",
   "metadata": {},
   "source": [
    "Da lahko začnemo raziskovati lastnosti programskih jezikov, potrebujemo primer takega jezika. To bo enostaven ukazni (oz. imperativni) programski jezik IMP, ki podpira aritmetične izraze (cela števila, spremenljivke, aritmetične operacije), logične izraze (logični konstanti ter primerjave aritmetičnih izrazov) ter ukaze (pogojne stavke, zanke, …).\n",
    "\n",
    "## Sintaksa jezika\n",
    "\n",
    "Prva stvar, ki jo moramo podati v definiciji programskega jezika, je njegova sintaksa - torej zapis vseh izrazov, ki jih jezik omogoča. Ločujemo med _konkretno sintakso_, ki definira zaporedja znakov, ki predstavljajo veljavne programe, ter _abstraktno sintakso_, ki možne izraze jezika predstavi z drevesno strukturo. Na primer, `1 + (2 * 3)` in `1+2*3` sta različna niza konkretne sintakse, ki oba predstavljata izraz abstraktne sintakse, predstavljen z drevesom\n",
    "\n",
    "```text\n",
    "      +\n",
    "     / \\\n",
    "    1   *\n",
    "       / \\\n",
    "      2   3\n",
    "```\n",
    "\n",
    "ki ga na krajše pišemo kar kot $1 + (2 * 3)$, pri čemer matematična pisava nakazuje, da nas podrobnosti, kot so presledki, ne zanimajo.\n",
    "\n",
    "### Konkretna sintaksa\n",
    "\n",
    "Konkretno sintakso običajno podajamo v [Backus-Naurovi obliki (BNF)](https://en.m.wikipedia.org/wiki/Backus–Naur_form). Ker mora konkretno sintakso razumeti tudi računalnik, v njej upoštevamo tudi presledke, zamike, oklepaje, komentarje, …  Ta je sestavljena iz pravil, ki povedo, kakšne vrste simbolov lahko nastopajo v jeziku. Pravilo, ki podaja sintakso določenega simbola je oblike\n",
    "\n",
    "```text\n",
    "<simbol> ::= moznost1 | moznost2 | ...\n",
    "\n",
    "kjer je vsaka izmed možnosti sestavljena iz enega ali več nizov ali drugih simbolov. Na primer, simbol za števko `<digit>` je lahko kateri koli izmed nizov `\"0\"`, `\"1\"`, …, `\"9\"`, številka pa je sestavljena iz ene ali več števk ter morebitnega predznaka:\n",
    "\n",
    "```text\n",
    "<digit> ::= \"0\" | \"1\" | ... | \"9\"\n",
    "<digits> ::= \"\" | <digit> <digits>\n",
    "<integer> ::= <digits> | \"-\" <digits>\n",
    "```\n",
    "\n",
    "Za programski jezik IMP bo konkretna sintaksa\n",
    "\n",
    "```text\n",
    "<space> ::= \" \" | \"\\n\" | \"\\t\" | \"\\r\"\n",
    "<spaces> ::= \"\" | <spaces1>\n",
    "<spaces1> ::= <space> <spaces>\n",
    "\n",
    "<alpha> ::= \"a\" | \"b\" | ... | \"z\"\n",
    "<alphanum> ::= <alpha> | <digit>\n",
    "<alphanums> ::= \"\" | <alphanum> <alphanums>\n",
    "<ident> ::= <alpha> <alhpanums>\n",
    "<location> ::= \"#\" <ident>\n",
    "\n",
    "<exp> ::= <atomic_exp> <spaces> \"+\" <spaces> <atomic_exp>\n",
    "        |  <atomic_exp> <spaces> \"-\" <spaces> <atomic_exp>\n",
    "        |  <atomic_exp> <spaces> \"*\" <spaces> <atomic_exp>\n",
    "        |  <atomic_exp>\n",
    "<atomic_exp> ::= <location>\n",
    "              |  <integer>\n",
    "              |  \"(\" <spaces> <exp> <spaces> \")\"\n",
    "<bexp> ::= \"TRUE\"\n",
    "        |  \"FALSE\"\n",
    "        |  <exp> <spaces> \"=\" <spaces> <exp>\n",
    "        |  <exp> <spaces> \"<\" <spaces> <exp>\n",
    "        |  <exp> <spaces> \">\" <spaces> <exp>\n",
    "<cmd> ::= \"IF\" <spaces1> <bexp> <spaces1> \"THEN\" <spaces1> <cmd> <spaces1> \"ELSE\" <spaces1> <cmd>\n",
    "        |  \"WHILE\" <spaces1> <bexp> <spaces1> \"DO\" <spaces1> <cmd>\n",
    "        |  <atomic_cmd> <spaces> \";\" <spaces> <cmd>\n",
    "<atomic_cmd> ::= <location> <spaces> \":=\" <spaces> <exp>\n",
    "              |  \"SKIP\"\n",
    "              |  \"(\" <spaces> <cmd> <spaces> \")\"\n",
    "```\n",
    "\n",
    "Kaj predstavljajo zgoraj omenjeni simboli, si bomo ogledali pri abstraktni sintaksi jezika IMP, za idejo pa lahko vseeno podamo primer veljavnega programa v konkretni sintaksi:\n",
    "\n",
    "```text\n",
    "#fact := 1;\n",
    "WHILE #m > 0 DO (\n",
    "    #fact := #fact * #m;\n",
    "    #m := #m - 1\n",
    ")\n",
    "```\n",
    "\n",
    "Videti je, da program v pomnilniško lokacijo `#fact` shrani fakulteto števila, shranjenega v `#m`, vendar tega ne vemo, dokler ne podamo semantike jezika.\n",
    "\n",
    "### Abstraktna sintaksa\n",
    "\n",
    "Kot smo že videli, v abstraktni sintaksi možne izraze predstavimo z drevesi, katerih otroci predstavljajo njihove podizraze. Zaradi krajšega zapisa pa tudi abstraktno sintakso podamo v zapisu, podobnemu BNF, pri čemer nas podrobnosti, kot so oklepaji ali točen zapis spremenljivk in števil ne zanima.  Tako bomo predpostavili, da $n$ predstavlja poljubno celo število, $\\ell$ pa poljubno pomnilniško lokacijo.\n",
    "\n",
    "Kot smo že omenili, je jezik IMP sestavljen iz aritmetičnih izrazov, ki jih bomo označevali s spremenljivko $e$, logičnih izrazov, ki jih bomo označevali z $b$, ter ukazov, ki jih bomo označevali s $c$.\n",
    "\n",
    "$$\n",
    "  \\begin{aligned}\n",
    "    \\text{aritmetični izraz } e &::=\n",
    "      \\ell \\mid\n",
    "      \\intsym{n} \\mid\n",
    "      e_1 + e_2 \\mid\n",
    "      e_1 - e_2 \\mid\n",
    "      e_1 * e_2 \\\\\n",
    "    \\text{logični izraz } b &::=\n",
    "      \\true \\mid\n",
    "      \\false \\mid\n",
    "      e_1 = e_2 \\mid\n",
    "      e_1 < e_2 \\mid\n",
    "      e_1 > e_2 \\\\\n",
    "    \\text{ukaz } c &::=\n",
    "      \\ifthenelse{b}{c_1}{c_2} \\mid\n",
    "      \\whiledo{b}{c} \\mid\n",
    "      c_1 ; c_2 \\mid\n",
    "      \\ell := e \\mid\n",
    "      \\skip\n",
    "  \\end{aligned}\n",
    "$$\n",
    "\n",
    "Oglejmo si vse veljavne dele jezika, pri čemer bomo za vsakega neformalno povedali, kaj predstavlja. Aritmetični izrazi so sestavljeni iz branja vrednosti pomnilniških lokacij, celoštevilskih konstant (ki jih podčrtamo, da jih ločimo od celih števil) ter aritmetičnih operacij, logični izrazi pa so sestavljeni iz logičnih konstant ter primerjav. Ukazi so bolj zanimivi:\n",
    "\n",
    "- pogojni ukaz, ki izvede $c_1$, kadar $b$ predstavlja resnično logično vrednost, oziroma $c_2$, kadar $b$ predstavlja neresnično logično vrednost;\n",
    "- zanka `while` izvaja ukaz $c$, dokler $b$ predstavlja resnično logično vrednost;\n",
    "- zaporedno izvajanje najprej izvede $c_1$ - ko (če) se ta konča, izvede še $c_2$;\n",
    "- prirejanje izračuna aritmetični izraz $e$ ter njegovo vrednost zapiše v pomnilniško lokacijo $\\ell$;\n",
    "- zadnji ukaz ne naredi ničesar, uporabimo pa ga na primer takrat, kadar v pogojnem stavku želimo nekaj storiti le v eni izmed vej.\n",
    "\n",
    "Zgornji program bi v abstraktni sintaksi lahko predstavili z ukazom\n",
    "\n",
    "$$\n",
    "  \\begin{aligned}\n",
    "    &\\mathsf{fact} := \\intsym{1}; \\\\\n",
    "    &\\whiledo{\\mathsf{m} > \\intsym{0}}{} \\\\\n",
    "    &\\quad \\mathsf{fact} := \\mathsf{fact} * \\mathsf{m}; \\\\\n",
    "    &\\quad \\mathsf{m} := \\mathsf{m} - \\intsym{1}\n",
    "  \\end{aligned}\n",
    "$$\n",
    "\n",
    "## Implementacija jezika\n",
    "\n",
    "Običajno bi po sintaksi jezika formalno podali še njegovo semantiko, torej pomen posameznih delov. Ker za to še nimamo ustreznih matematičnih orodij, bomo ravnali podobno kot pri večini programskih jezikov: napisali bomo implementacijo, torej program, ki prebere ukaze, zapisane v konkretni sintaksi, ter jih na nek (po vsej sreči smiselen) način izvede. Nato pa bomo proglasili, da je pomen programa v IMPu tisto, kar implementacija z njim naredi. Implementacijo bomo napisali v programskem jeziku [OCaml](https://ocaml.org), ki je eden najprikladnejših jezikov za implementacije programskih jezikov. Končnica `ML` namreč pomeni _meta-language_ oziroma metajezik, torej jezik za opis jezikov.\n",
    "\n",
    "### Implementacija abstraktne sintakse\n",
    "\n",
    "Sintakso, ki je sestavljena iz treh vrst izrazov, bomo predstavili s tremi induktivnimi tipi. Pomnilniške lokacije bomo predstavili kar z nizi, vendar jih bomo zaradi lažjega razločevanja ovili s konstruktorjem."
   ]
  },
  {
   "cell_type": "code",
   "execution_count": 2,
   "id": "7272af26",
   "metadata": {
    "tags": [
     "remove-output"
    ]
   },
   "outputs": [
    {
     "data": {
      "text/plain": [
       "type location = Location of string\n"
      ]
     },
     "execution_count": 2,
     "metadata": {},
     "output_type": "execute_result"
    },
    {
     "data": {
      "text/plain": [
       "type exp =\n",
       "    Lookup of location\n",
       "  | Int of int\n",
       "  | Plus of exp * exp\n",
       "  | Minus of exp * exp\n",
       "  | Times of exp * exp\n"
      ]
     },
     "execution_count": 2,
     "metadata": {},
     "output_type": "execute_result"
    },
    {
     "data": {
      "text/plain": [
       "type bexp =\n",
       "    Bool of bool\n",
       "  | Equal of exp * exp\n",
       "  | Less of exp * exp\n",
       "  | Greater of exp * exp\n"
      ]
     },
     "execution_count": 2,
     "metadata": {},
     "output_type": "execute_result"
    },
    {
     "data": {
      "text/plain": [
       "type cmd =\n",
       "    IfThenElse of bexp * cmd * cmd\n",
       "  | WhileDo of bexp * cmd\n",
       "  | Seq of cmd * cmd\n",
       "  | Assign of location * exp\n",
       "  | Skip\n"
      ]
     },
     "execution_count": 2,
     "metadata": {},
     "output_type": "execute_result"
    }
   ],
   "source": [
    "type location = Location of string\n",
    "\n",
    "type exp =\n",
    "  | Lookup of location\n",
    "  | Int of int\n",
    "  | Plus of exp * exp\n",
    "  | Minus of exp * exp\n",
    "  | Times of exp * exp\n",
    "\n",
    "type bexp =\n",
    "  | Bool of bool\n",
    "  | Equal of exp * exp\n",
    "  | Less of exp * exp\n",
    "  | Greater of exp * exp\n",
    "\n",
    "type cmd =\n",
    "  | IfThenElse of bexp * cmd * cmd\n",
    "  | WhileDo of bexp * cmd\n",
    "  | Seq of cmd * cmd\n",
    "  | Assign of location * exp\n",
    "  | Skip"
   ]
  },
  {
   "cell_type": "markdown",
   "id": "f7f929ae",
   "metadata": {},
   "source": [
    "Na primer, aritmetična izraza $e_1 = (\\intsym{6} * \\intsym{7})$ in $e_2 = (\\mathsf{m} - \\intsym{1})$ bi predstavili z"
   ]
  },
  {
   "cell_type": "code",
   "execution_count": 3,
   "id": "444d8c42",
   "metadata": {},
   "outputs": [
    {
     "data": {
      "text/plain": [
       "val exp1 : exp = Times (Int 6, Int 7)\n"
      ]
     },
     "execution_count": 3,
     "metadata": {},
     "output_type": "execute_result"
    },
    {
     "data": {
      "text/plain": [
       "val exp2 : exp = Minus (Lookup (Location \"m\"), Int 1)\n"
      ]
     },
     "execution_count": 3,
     "metadata": {},
     "output_type": "execute_result"
    }
   ],
   "source": [
    "let exp1 = Times (Int 6, Int 7)\n",
    "let exp2 = Minus (Lookup (Location \"m\"), Int 1)"
   ]
  },
  {
   "cell_type": "markdown",
   "id": "52020941",
   "metadata": {},
   "source": [
    "logični izraz $b = (\\mathsf{m} > \\intsym{0})$ z"
   ]
  },
  {
   "cell_type": "code",
   "execution_count": 4,
   "id": "034ab2f9",
   "metadata": {},
   "outputs": [
    {
     "data": {
      "text/plain": [
       "val bexp : bexp = Greater (Lookup (Location \"m\"), Int 0)\n"
      ]
     },
     "execution_count": 4,
     "metadata": {},
     "output_type": "execute_result"
    }
   ],
   "source": [
    "let bexp = Greater (Lookup (Location \"m\"), Int 0)"
   ]
  },
  {
   "cell_type": "markdown",
   "id": "bb658684",
   "metadata": {},
   "source": [
    "ukaza $c_1 = (\\mathsf{m} := e_2)$ in $c_2 = (\\whiledo{b}{c_1})$ pa z"
   ]
  },
  {
   "cell_type": "code",
   "execution_count": 5,
   "id": "ba019b63",
   "metadata": {},
   "outputs": [
    {
     "data": {
      "text/plain": [
       "val cmd1 : cmd = Assign (Location \"m\", Minus (Lookup (Location \"m\"), Int 1))\n"
      ]
     },
     "execution_count": 5,
     "metadata": {},
     "output_type": "execute_result"
    },
    {
     "data": {
      "text/plain": [
       "val cmd2 : cmd =\n",
       "  WhileDo (Greater (Lookup (Location \"m\"), Int 0),\n",
       "   Assign (Location \"m\", Minus (Lookup (Location \"m\"), Int 1)))\n"
      ]
     },
     "execution_count": 5,
     "metadata": {},
     "output_type": "execute_result"
    }
   ],
   "source": [
    "let cmd1 = Assign (Location \"m\", exp2)\n",
    "let cmd2 = WhileDo (bexp, cmd1)"
   ]
  },
  {
   "cell_type": "markdown",
   "id": "1af241d5",
   "metadata": {},
   "source": [
    "### Implementacija izvajanja\n",
    "\n",
    "Pomen bomo najprej določili aritmetičnim izrazom, ki naj bi predstavljali cela števila. Ker izrazi lahko vsebujejo pomnilniške lokacije, mora funkcija za evalvacijo poleg izraza sprejeti tudi trenutno stanje pomnilnika, ki ga bomo predstavili kar s seznamom parov, ki danim lokacijam pripiše cela števila, na primer"
   ]
  },
  {
   "cell_type": "code",
   "execution_count": 6,
   "id": "99bb106e",
   "metadata": {},
   "outputs": [
    {
     "data": {
      "text/plain": [
       "val st1 : (location * int) list = [(Location \"m\", 10); (Location \"n\", 0)]\n"
      ]
     },
     "execution_count": 6,
     "metadata": {},
     "output_type": "execute_result"
    },
    {
     "data": {
      "text/plain": [
       "val st2 : (location * int) list = [(Location \"m\", 5)]\n"
      ]
     },
     "execution_count": 6,
     "metadata": {},
     "output_type": "execute_result"
    }
   ],
   "source": [
    "let st1 = [(Location \"m\", 10); (Location \"n\", 0)]\n",
    "let st2 = [(Location \"m\", 5)]"
   ]
  },
  {
   "cell_type": "code",
   "execution_count": 7,
   "id": "4aca4429",
   "metadata": {},
   "outputs": [
    {
     "data": {
      "text/plain": [
       "val eval_exp : (location * int) list -> exp -> int = <fun>\n"
      ]
     },
     "execution_count": 7,
     "metadata": {},
     "output_type": "execute_result"
    }
   ],
   "source": [
    "let rec eval_exp st = function\n",
    "  | Lookup l -> List.assoc l st\n",
    "  | Int n -> n\n",
    "  | Plus (e1, e2) -> eval_exp st e1 + eval_exp st e2\n",
    "  | Minus (e1, e2) -> eval_exp st e1 - eval_exp st e2\n",
    "  | Times (e1, e2) -> eval_exp st e1 * eval_exp st e2"
   ]
  },
  {
   "cell_type": "markdown",
   "id": "a74ec7c0",
   "metadata": {},
   "source": [
    "Tako na primer velja"
   ]
  },
  {
   "cell_type": "code",
   "execution_count": 8,
   "id": "d4c09cbf",
   "metadata": {},
   "outputs": [
    {
     "data": {
      "text/plain": [
       "- : int = 42\n"
      ]
     },
     "execution_count": 8,
     "metadata": {},
     "output_type": "execute_result"
    }
   ],
   "source": [
    "eval_exp [] exp1"
   ]
  },
  {
   "cell_type": "code",
   "execution_count": 9,
   "id": "af1fdbe5",
   "metadata": {},
   "outputs": [
    {
     "data": {
      "text/plain": [
       "- : int = 9\n"
      ]
     },
     "execution_count": 9,
     "metadata": {},
     "output_type": "execute_result"
    }
   ],
   "source": [
    "eval_exp st1 exp2"
   ]
  },
  {
   "cell_type": "code",
   "execution_count": 10,
   "id": "91425b8e",
   "metadata": {},
   "outputs": [
    {
     "data": {
      "text/plain": [
       "- : int = 4\n"
      ]
     },
     "execution_count": 10,
     "metadata": {},
     "output_type": "execute_result"
    }
   ],
   "source": [
    "eval_exp st2 exp2"
   ]
  },
  {
   "cell_type": "markdown",
   "id": "b6cff76a",
   "metadata": {},
   "source": [
    "Podobno lahko definiramo funkcijo za evalvacijo logičnih izrazov, ki sprejme stanje in logični izraz ter vrne logično vrednost:"
   ]
  },
  {
   "cell_type": "code",
   "execution_count": 11,
   "id": "d623cfa2",
   "metadata": {},
   "outputs": [
    {
     "data": {
      "text/plain": [
       "val eval_bexp : (location * int) list -> bexp -> bool = <fun>\n"
      ]
     },
     "execution_count": 11,
     "metadata": {},
     "output_type": "execute_result"
    }
   ],
   "source": [
    "let eval_bexp st = function\n",
    "  | Bool b -> b\n",
    "  | Equal (e1, e2) -> eval_exp st e1 = eval_exp st e2\n",
    "  | Less (e1, e2) -> eval_exp st e1 < eval_exp st e2\n",
    "  | Greater (e1, e2) -> eval_exp st e1 > eval_exp st e2"
   ]
  },
  {
   "cell_type": "code",
   "execution_count": 12,
   "id": "d1c2c135",
   "metadata": {},
   "outputs": [
    {
     "data": {
      "text/plain": [
       "- : bool = true\n"
      ]
     },
     "execution_count": 12,
     "metadata": {},
     "output_type": "execute_result"
    }
   ],
   "source": [
    "eval_bexp st1 bexp"
   ]
  },
  {
   "cell_type": "code",
   "execution_count": 13,
   "id": "9a245800",
   "metadata": {},
   "outputs": [
    {
     "data": {
      "text/plain": [
       "- : bool = true\n"
      ]
     },
     "execution_count": 13,
     "metadata": {},
     "output_type": "execute_result"
    }
   ],
   "source": [
    "eval_bexp st2 bexp"
   ]
  },
  {
   "cell_type": "markdown",
   "id": "e8d7c5de",
   "metadata": {},
   "source": [
    "Nazadnje definirajmo še funkcijo za evalvacijo ukazov. Funkcija sprejme stanje in ukaz, vrne pa končno vrednost stanja po izvršenem ukazu."
   ]
  },
  {
   "cell_type": "code",
   "execution_count": 14,
   "id": "ad2b5ed9",
   "metadata": {},
   "outputs": [
    {
     "data": {
      "text/plain": [
       "val eval_cmd : (location * int) list -> cmd -> (location * int) list = <fun>\n"
      ]
     },
     "execution_count": 14,
     "metadata": {},
     "output_type": "execute_result"
    }
   ],
   "source": [
    "let rec eval_cmd st = function\n",
    "  | IfThenElse (b, c1, c2) ->\n",
    "      if eval_bexp st b then eval_cmd st c1 else eval_cmd st c2\n",
    "  | WhileDo (b, c) ->\n",
    "      (* eval_cmd st (IfThenElse (b, Seq (c, WhileDo (b, c)), Skip)) *)\n",
    "      if eval_bexp st b then\n",
    "        let st' = eval_cmd st c in\n",
    "        eval_cmd st' (WhileDo (b, c))\n",
    "      else st\n",
    "  | Seq (c1, c2) ->\n",
    "      let st' = eval_cmd st c1 in\n",
    "      eval_cmd st' c2\n",
    "  | Assign (l, e) -> (l, eval_exp st e) :: List.remove_assoc l st\n",
    "  | Skip -> st"
   ]
  },
  {
   "cell_type": "code",
   "execution_count": 15,
   "id": "48a21b54",
   "metadata": {},
   "outputs": [
    {
     "data": {
      "text/plain": [
       "- : (location * int) list = [(Location \"m\", 9); (Location \"n\", 0)]\n"
      ]
     },
     "execution_count": 15,
     "metadata": {},
     "output_type": "execute_result"
    }
   ],
   "source": [
    "eval_cmd st1 cmd1"
   ]
  },
  {
   "cell_type": "code",
   "execution_count": 16,
   "id": "ef77c564",
   "metadata": {},
   "outputs": [
    {
     "data": {
      "text/plain": [
       "- : (location * int) list = [(Location \"m\", 4)]\n"
      ]
     },
     "execution_count": 16,
     "metadata": {},
     "output_type": "execute_result"
    }
   ],
   "source": [
    "eval_cmd st2 cmd1"
   ]
  },
  {
   "cell_type": "code",
   "execution_count": 17,
   "id": "9362a6a5",
   "metadata": {},
   "outputs": [
    {
     "data": {
      "text/plain": [
       "- : (location * int) list = [(Location \"m\", 0); (Location \"n\", 0)]\n"
      ]
     },
     "execution_count": 17,
     "metadata": {},
     "output_type": "execute_result"
    }
   ],
   "source": [
    "eval_cmd st1 cmd2"
   ]
  },
  {
   "cell_type": "code",
   "execution_count": 18,
   "id": "4de212d5",
   "metadata": {},
   "outputs": [
    {
     "data": {
      "text/plain": [
       "- : (location * int) list = [(Location \"m\", 0)]\n"
      ]
     },
     "execution_count": 18,
     "metadata": {},
     "output_type": "execute_result"
    }
   ],
   "source": [
    "eval_cmd st2 cmd2"
   ]
  },
  {
   "cell_type": "markdown",
   "id": "5d006e28",
   "metadata": {},
   "source": [
    "### Implementacija razčlenjevalnika\n",
    "\n",
    "Razčlenjevalnikov običajno ne pišemo direktno, temveč se poslužimo posebnih orodij, ki sprejmejo definicijo jezika v zapisu podobnem BNF, ter iz nje samodejno ustvarijo program. V primeru OCamla sta taka programa [`ocamlyacc`](https://v2.ocaml.org/manual/lexyacc.html) in njegova naprednejša različica [Menhir](http://gallium.inria.fr/~fpottier/menhir/). Prav tako je sestavni del razčlenjevalnika _lekser_, ki zaporedje znakov najprej pretvori v zaporedje _leksemov_, kjer so zaporedne števke že združene v števila, ključne besede nadomeščene s posebnimi simboli, presledki in komentarji pa odstranjeni.\n",
    "\n",
    "Mi pa bomo zato, da bomo ostali znotraj enega orodja in zraven ponovili še malo funkcijskega programiranja, ubrali bolj neposredno pot in uporabili [kombinatorje razčlenjevalnikov](https://en.wikipedia.org/wiki/Parser_combinator). Vsak razčlenjevalnik bo sestavljen iz manjših razčlenjevalnikov, od katerih bo vsak predelal del besedila. Poglejmo najprej, kakšne oblike bodo.\n",
    "\n",
    "#### Tip razčlenjevalnikov `'a parser`\n",
    "\n",
    "Recimo, da želimo razčlenjevalnik za cela števila. Začnimo z željo po funkciji `string -> int`, ki vzame vhodni niz ter vrne prebrano število, na primer iz niza `\"42\"` dobimo število `42`.\n",
    "\n",
    "Ker vsak niz ne bo predstavljal števila, moramo najprej popraviti ti rezultata, da dobimo `string -> int option`. Tako bomo iz niza `\"42\"` dobili `Some 42`, iz niza `\"abc\"` pa `None`.\n",
    "\n",
    "Razčlenjevalnike bomo združevali in vsak ne bo prebral celotnega niza, temveč samo njegov začetek, preostanek pa bo predal nadaljnjim razčlenjevalnikom. Zato ne vrnemo samo rezultata, temveč tudi preostali niz, zato je še boljši tip `string -> (int * string) option`. Tako bi razčlenjevalnik pri vhodu `\"42abc\"` vrnil `Some (42, \"abc\")`, pri vhodu `\"42\"` rezultat `Some (42, \"\")`, pri vhodu `\"abc42\"` pa `None`, saj začetek ne predstavlja števila.\n",
    "\n",
    "Niz je veliko enostavneje brati postopoma, če ga poprej pretvorimo v zaporedje znakov. Za pretvorbo uporabljamo funkciji:"
   ]
  },
  {
   "cell_type": "code",
   "execution_count": 19,
   "id": "e84cc8a2",
   "metadata": {},
   "outputs": [
    {
     "data": {
      "text/plain": [
       "val explode : string -> char list = <fun>\n"
      ]
     },
     "execution_count": 19,
     "metadata": {},
     "output_type": "execute_result"
    },
    {
     "data": {
      "text/plain": [
       "val implode : char list -> string = <fun>\n"
      ]
     },
     "execution_count": 19,
     "metadata": {},
     "output_type": "execute_result"
    }
   ],
   "source": [
    "let explode str = List.init (String.length str) (String.get str)\n",
    "let implode chrs = String.init (List.length chrs) (List.nth chrs)"
   ]
  },
  {
   "cell_type": "code",
   "execution_count": 20,
   "id": "4a39a31a",
   "metadata": {},
   "outputs": [
    {
     "data": {
      "text/plain": [
       "- : char list = ['a'; 'b'; 'c']\n"
      ]
     },
     "execution_count": 20,
     "metadata": {},
     "output_type": "execute_result"
    }
   ],
   "source": [
    "explode \"abc\""
   ]
  },
  {
   "cell_type": "code",
   "execution_count": 21,
   "id": "e44ce8ab",
   "metadata": {},
   "outputs": [
    {
     "data": {
      "text/plain": [
       "- : string = \"TPJ\"\n"
      ]
     },
     "execution_count": 21,
     "metadata": {},
     "output_type": "execute_result"
    }
   ],
   "source": [
    "implode ['T'; 'P'; 'J']"
   ]
  },
  {
   "cell_type": "markdown",
   "id": "a3f8ecb3",
   "metadata": {},
   "source": [
    "Tudi tip razčlenjevalnikov spremenimo v `char list -> (int * char list) option`. Ker seveda ne bomo brali samo celih števil, celoten tip razčlenjevalnikov parametriziramo glede na tip prebranih vrednosti:"
   ]
  },
  {
   "cell_type": "code",
   "execution_count": 22,
   "id": "e7dc8d38",
   "metadata": {},
   "outputs": [
    {
     "data": {
      "text/plain": [
       "type 'a parser = char list -> ('a * char list) option\n"
      ]
     },
     "execution_count": 22,
     "metadata": {},
     "output_type": "execute_result"
    }
   ],
   "source": [
    "type 'a parser = char list -> ('a * char list) option"
   ]
  },
  {
   "cell_type": "markdown",
   "id": "6b453477",
   "metadata": {},
   "source": [
    "Zgoraj opisani razčlenjevalnik bi tako lahko definirali kot:"
   ]
  },
  {
   "cell_type": "code",
   "execution_count": 23,
   "id": "c090a176",
   "metadata": {},
   "outputs": [
    {
     "data": {
      "text/plain": [
       "val parse_int : int parser = <fun>\n"
      ]
     },
     "execution_count": 23,
     "metadata": {},
     "output_type": "execute_result"
    }
   ],
   "source": [
    "let parse_int : int parser =\n",
    "  fun chrs ->\n",
    "  let rec take_initial_digits =\n",
    "    function\n",
    "    | chr :: chrs when String.contains \"0123456789\" chr ->\n",
    "        let digits, rest = take_initial_digits chrs in\n",
    "        (chr :: digits, rest)\n",
    "    | chrs -> ([], chrs)\n",
    "  in\n",
    "  match take_initial_digits chrs with\n",
    "  | ([], chrs) -> None\n",
    "  | (digits, chrs) ->\n",
    "      Some (int_of_string (implode digits), chrs)"
   ]
  },
  {
   "cell_type": "code",
   "execution_count": 24,
   "id": "de7f7efe",
   "metadata": {},
   "outputs": [
    {
     "data": {
      "text/plain": [
       "- : (int * char list) option = Some (42, ['a'; 'b'; 'c'])\n"
      ]
     },
     "execution_count": 24,
     "metadata": {},
     "output_type": "execute_result"
    }
   ],
   "source": [
    "parse_int (explode \"42abc\")"
   ]
  },
  {
   "cell_type": "code",
   "execution_count": 25,
   "id": "fa6d69fc",
   "metadata": {},
   "outputs": [
    {
     "data": {
      "text/plain": [
       "- : (int * char list) option = Some (42, [])\n"
      ]
     },
     "execution_count": 25,
     "metadata": {},
     "output_type": "execute_result"
    }
   ],
   "source": [
    "parse_int (explode \"42\")"
   ]
  },
  {
   "cell_type": "code",
   "execution_count": 26,
   "id": "bad0c55a",
   "metadata": {},
   "outputs": [
    {
     "data": {
      "text/plain": [
       "- : (int * char list) option = None\n"
      ]
     },
     "execution_count": 26,
     "metadata": {},
     "output_type": "execute_result"
    }
   ],
   "source": [
    "parse_int (explode \"abc42\")"
   ]
  },
  {
   "cell_type": "markdown",
   "id": "738368ae",
   "metadata": {},
   "source": [
    "Pri definiciji smo ročno dopisali tip `int parser`, saj bi nam OCaml sicer prikazoval ekvivalenten, vendar manj pregleden tip `char list -> (int * char list) option`. Za preglednejše testiranje si napišimo pomožno funkcijo `($$$) : 'a parser -> string -> ('a * string) option`, ki samodejno poskrbi za pretvorbo med nizi in zaporedji znakov."
   ]
  },
  {
   "cell_type": "code",
   "execution_count": 27,
   "id": "1a0fe5cc",
   "metadata": {},
   "outputs": [
    {
     "data": {
      "text/plain": [
       "val ( $$$ ) : 'a parser -> string -> ('a * string) option = <fun>\n"
      ]
     },
     "execution_count": 27,
     "metadata": {},
     "output_type": "execute_result"
    }
   ],
   "source": [
    "let ( $$$ ) (parser : 'a parser) str =\n",
    "  match parser (explode str) with\n",
    "  | None -> None\n",
    "  | Some (x, rest) -> Some (x, implode rest)"
   ]
  },
  {
   "cell_type": "markdown",
   "id": "7c15c3de",
   "metadata": {},
   "source": [
    "Funkciji damo simbolno ime `( $$$ )`, da jo lahko kličemo infiksno kot `parser $$$ niz`."
   ]
  },
  {
   "cell_type": "code",
   "execution_count": 28,
   "id": "574f9663",
   "metadata": {},
   "outputs": [
    {
     "data": {
      "text/plain": [
       "- : (int * string) option = Some (42, \"abc\")\n"
      ]
     },
     "execution_count": 28,
     "metadata": {},
     "output_type": "execute_result"
    }
   ],
   "source": [
    "parse_int $$$ \"42abc\""
   ]
  },
  {
   "cell_type": "markdown",
   "id": "1b9ba00a",
   "metadata": {},
   "source": [
    "#### Osnovni razčlenjevalniki\n",
    "\n",
    "Vse razčlenjevalnike pisati na tak način bi bilo precej nerodno. Raje si bomo definirali nekaj osnovnih, ki jih bomo združevali v večje. Prvi je razčlenjevalnik `fail`, ki vedno zavrne vhod:"
   ]
  },
  {
   "cell_type": "code",
   "execution_count": 29,
   "id": "bc658d19",
   "metadata": {},
   "outputs": [
    {
     "data": {
      "text/plain": [
       "val fail : 'a parser = <fun>\n"
      ]
     },
     "execution_count": 29,
     "metadata": {},
     "output_type": "execute_result"
    }
   ],
   "source": [
    "let fail : 'a parser = fun _chrs -> None"
   ]
  },
  {
   "cell_type": "code",
   "execution_count": 30,
   "id": "a468e128",
   "metadata": {},
   "outputs": [
    {
     "data": {
      "text/plain": [
       "- : ('a * string) option = None\n"
      ]
     },
     "execution_count": 30,
     "metadata": {},
     "output_type": "execute_result"
    }
   ],
   "source": [
    "fail $$$ \"42abc\""
   ]
  },
  {
   "cell_type": "markdown",
   "id": "e9f7ee64",
   "metadata": {},
   "source": [
    "Nato imamo funkcijo `return`, ki sprejme vrednost `v` in vrne razčlenjevalnik, ki ne glede na vhod vrne uspešno prebrano vrednost `v`, celoten vhod pa posreduje naprej."
   ]
  },
  {
   "cell_type": "code",
   "execution_count": 31,
   "id": "e9d7a50e",
   "metadata": {},
   "outputs": [
    {
     "data": {
      "text/plain": [
       "val return : 'a -> 'a parser = <fun>\n"
      ]
     },
     "execution_count": 31,
     "metadata": {},
     "output_type": "execute_result"
    }
   ],
   "source": [
    "let return v : 'a parser = fun chrs -> Some (v, chrs)"
   ]
  },
  {
   "cell_type": "code",
   "execution_count": 32,
   "id": "bc97baa6",
   "metadata": {},
   "outputs": [
    {
     "data": {
      "text/plain": [
       "- : (int * string) option = Some (10, \"42abc\")\n"
      ]
     },
     "execution_count": 32,
     "metadata": {},
     "output_type": "execute_result"
    }
   ],
   "source": [
    "return 10 $$$ \"42abc\""
   ]
  },
  {
   "cell_type": "markdown",
   "id": "525d5a53",
   "metadata": {},
   "source": [
    "Prvi razčlenjevalnik, ki bo dejansko upošteval vhod, je `character`, ki prebere prvi znak, kadar obstaja, ostale pa pošlje naprej:"
   ]
  },
  {
   "cell_type": "code",
   "execution_count": 33,
   "id": "03068a3b",
   "metadata": {},
   "outputs": [
    {
     "data": {
      "text/plain": [
       "val character : char parser = <fun>\n"
      ]
     },
     "execution_count": 33,
     "metadata": {},
     "output_type": "execute_result"
    }
   ],
   "source": [
    "let character : char parser = function\n",
    "  | [] -> None\n",
    "  | chr :: chrs -> Some (chr, chrs)"
   ]
  },
  {
   "cell_type": "code",
   "execution_count": 34,
   "id": "43bc2ba5",
   "metadata": {},
   "outputs": [
    {
     "data": {
      "text/plain": [
       "- : (char * string) option = Some ('4', \"2abc\")\n"
      ]
     },
     "execution_count": 34,
     "metadata": {},
     "output_type": "execute_result"
    }
   ],
   "source": [
    "character $$$ \"42abc\""
   ]
  },
  {
   "cell_type": "code",
   "execution_count": 35,
   "id": "b0387a6c",
   "metadata": {},
   "outputs": [
    {
     "data": {
      "text/plain": [
       "- : (char * string) option = None\n"
      ]
     },
     "execution_count": 35,
     "metadata": {},
     "output_type": "execute_result"
    }
   ],
   "source": [
    "character $$$ \"\""
   ]
  },
  {
   "cell_type": "markdown",
   "id": "03c288a5",
   "metadata": {},
   "source": [
    "Nato imamo izbiro, ki najprej poskusi en razčlenjevalnik, če pa temu ne uspe, pa še drugega. Oba razčlenjevalnika morata seveda vračati vrednost enakega tipa."
   ]
  },
  {
   "cell_type": "code",
   "execution_count": 36,
   "id": "f8ac55f1",
   "metadata": {},
   "outputs": [
    {
     "data": {
      "text/plain": [
       "val ( || ) : 'a parser -> 'a parser -> 'a parser = <fun>\n"
      ]
     },
     "execution_count": 36,
     "metadata": {},
     "output_type": "execute_result"
    }
   ],
   "source": [
    "let ( || ) (parser1 : 'a parser) (parser2 : 'a parser) : 'a parser =\n",
    " fun chrs ->\n",
    "  match parser1 chrs with\n",
    "  | None -> parser2 chrs\n",
    "  | Some (v, chrs') -> Some (v, chrs')"
   ]
  },
  {
   "cell_type": "code",
   "execution_count": 37,
   "id": "8e804dd5",
   "metadata": {},
   "outputs": [
    {
     "data": {
      "text/plain": [
       "- : (char * string) option = Some ('4', \"2abc\")\n"
      ]
     },
     "execution_count": 37,
     "metadata": {},
     "output_type": "execute_result"
    }
   ],
   "source": [
    "(fail || character) $$$ \"42abc\""
   ]
  },
  {
   "cell_type": "code",
   "execution_count": 38,
   "id": "8c5a2115",
   "metadata": {},
   "outputs": [
    {
     "data": {
      "text/plain": [
       "- : (char * string) option = Some ('X', \"42abc\")\n"
      ]
     },
     "execution_count": 38,
     "metadata": {},
     "output_type": "execute_result"
    }
   ],
   "source": [
    "(return 'X' || character) $$$ \"42abc\""
   ]
  },
  {
   "cell_type": "markdown",
   "id": "03926b78",
   "metadata": {},
   "source": [
    "Nazadnje moramo znati razčlenjevalnike še združevati, kar storimo s funkcijo `>>=`, ki dva razčlenjevalnika veriži enega za drugim. V večini primerov bo drugi razčlenjevalnik odvisen od vrednosti, ki jo je prebral prvi. Na primer, če bomo najprej prebrali znak za začetek komentarja, bomo preskočili vse do konca vrstice, če pa bomo našli kaj drugega, pa bomo pričakovali veljaven ukaz. Tako je `parser1` razčlenjevalnik, ki vrne vrednost tipa `'a`, med tem ko `parser2` ni razčlenjevalnik, temveč funkcija `'a -> 'b parser`, ki vrne razčlenjevalnik odvisen od prebranega rezultata."
   ]
  },
  {
   "cell_type": "code",
   "execution_count": 39,
   "id": "310a7a06",
   "metadata": {},
   "outputs": [
    {
     "data": {
      "text/plain": [
       "val ( >>= ) : 'a parser -> ('a -> 'b parser) -> 'b parser = <fun>\n"
      ]
     },
     "execution_count": 39,
     "metadata": {},
     "output_type": "execute_result"
    }
   ],
   "source": [
    "let ( >>= ) (parser1 : 'a parser) (parser2 : 'a -> 'b parser) : 'b parser =\n",
    " fun chrs ->\n",
    "  match parser1 chrs with\n",
    "  | None -> None\n",
    "  | Some (v, chrs') -> parser2 v chrs'"
   ]
  },
  {
   "cell_type": "markdown",
   "id": "cb576880",
   "metadata": {},
   "source": [
    "Veriženje deluje tako, da najprej uporabimo `parser1`. Če že ta zavrne vhod, takoj končamo in vrnemo `None`. V primeru, pa da dobimo neko vrednost `v`, jo skupaj s preostankom znakov podamo funkciji `parser2`, ki potem uspešno ali neuspešno vrne končni rezultat.\n",
    "\n",
    "Na primer, spodnja kombinacija najprej prebere katerikoli znak, nato pa ta znak poda funkciji, ki ne glede na preostanek, ki sledi, vedno vrne niz, sestavljen iz 10 kopij tega znaka."
   ]
  },
  {
   "cell_type": "code",
   "execution_count": 40,
   "id": "c9bb7742",
   "metadata": {},
   "outputs": [
    {
     "data": {
      "text/plain": [
       "val vedno_preberi_10_kopij_znaka : char -> string parser = <fun>\n"
      ]
     },
     "execution_count": 40,
     "metadata": {},
     "output_type": "execute_result"
    }
   ],
   "source": [
    "let vedno_preberi_10_kopij_znaka c = return (String.make 10 c)"
   ]
  },
  {
   "cell_type": "code",
   "execution_count": 41,
   "id": "364d5094",
   "metadata": {},
   "outputs": [
    {
     "data": {
      "text/plain": [
       "- : (string * string) option = Some (\"4444444444\", \"2abc\")\n"
      ]
     },
     "execution_count": 41,
     "metadata": {},
     "output_type": "execute_result"
    }
   ],
   "source": [
    "character >>= vedno_preberi_10_kopij_znaka $$$ \"42abc\""
   ]
  },
  {
   "cell_type": "markdown",
   "id": "f419a322",
   "metadata": {},
   "source": [
    "Isto seveda lahko dosežemo tudi z anonimno funkcijo:"
   ]
  },
  {
   "cell_type": "code",
   "execution_count": 42,
   "id": "17b0642f",
   "metadata": {},
   "outputs": [
    {
     "data": {
      "text/plain": [
       "- : (string * string) option = Some (\"4444444444\", \"2abc\")\n"
      ]
     },
     "execution_count": 42,
     "metadata": {},
     "output_type": "execute_result"
    }
   ],
   "source": [
    "(character >>= fun c -> return (String.make 10 c)) $$$ \"42abc\""
   ]
  },
  {
   "cell_type": "markdown",
   "id": "6983ada5",
   "metadata": {},
   "source": [
    "#### Osnovni kombinatorji\n",
    "\n",
    "Izkaže se, da je zgoraj naštetih pet razčlenjevalnikov, torej `fail`, `return`, `character`, `||` in `>>=` dovolj, da izrazimo vse razčlenjevalnike, ki jih potrebujemo. Na primer, če želimo vrniti par zaporedoma prebranih vrednosti, lahko to zapišemo kot:"
   ]
  },
  {
   "cell_type": "code",
   "execution_count": 43,
   "id": "02fcc286",
   "metadata": {},
   "outputs": [
    {
     "data": {
      "text/plain": [
       "val pair : 'a parser -> 'b parser -> ('a * 'b) parser = <fun>\n"
      ]
     },
     "execution_count": 43,
     "metadata": {},
     "output_type": "execute_result"
    }
   ],
   "source": [
    "let pair parser1 parser2 = parser1 >>= fun v1 -> parser2 >>= fun v2 -> return (v1, v2)"
   ]
  },
  {
   "cell_type": "code",
   "execution_count": 44,
   "id": "f493179f",
   "metadata": {},
   "outputs": [
    {
     "data": {
      "text/plain": [
       "- : ((char * char) * string) option = Some (('4', '2'), \"abc\")\n"
      ]
     },
     "execution_count": 44,
     "metadata": {},
     "output_type": "execute_result"
    }
   ],
   "source": [
    "pair character character $$$ \"42abc\""
   ]
  },
  {
   "cell_type": "markdown",
   "id": "c9ddd3f7",
   "metadata": {},
   "source": [
    "Če želimo, da uspešno prebrana vrednost zadošča še kakšnemu predikatu, uporabimo funkcijo `satisfy`, kjer v drugem delu odvisno od pogoja vrednost vrnemo ali zavrnemo:"
   ]
  },
  {
   "cell_type": "code",
   "execution_count": 45,
   "id": "b7bed70c",
   "metadata": {},
   "outputs": [
    {
     "data": {
      "text/plain": [
       "val satisfy : ('a -> bool) -> 'a parser -> 'a parser = <fun>\n"
      ]
     },
     "execution_count": 45,
     "metadata": {},
     "output_type": "execute_result"
    }
   ],
   "source": [
    "let satisfy cond parser =\n",
    "  parser >>= fun v -> if cond v then return v else fail"
   ]
  },
  {
   "cell_type": "markdown",
   "id": "3953dea2",
   "metadata": {},
   "source": [
    "Na primer, spodnji razčlenjevalnik sprejema samo znake `'a'`, `'b'` in `'c'`."
   ]
  },
  {
   "cell_type": "code",
   "execution_count": 46,
   "id": "9dc8dc62",
   "metadata": {},
   "outputs": [
    {
     "data": {
      "text/plain": [
       "- : (char * string) option = None\n"
      ]
     },
     "execution_count": 46,
     "metadata": {},
     "output_type": "execute_result"
    }
   ],
   "source": [
    "satisfy (String.contains \"abc\") character $$$ \"123\""
   ]
  },
  {
   "cell_type": "code",
   "execution_count": 47,
   "id": "792f520f",
   "metadata": {},
   "outputs": [
    {
     "data": {
      "text/plain": [
       "- : (char * string) option = Some ('a', \"23\")\n"
      ]
     },
     "execution_count": 47,
     "metadata": {},
     "output_type": "execute_result"
    }
   ],
   "source": [
    "satisfy (String.contains \"abc\") character $$$ \"a23\""
   ]
  },
  {
   "cell_type": "markdown",
   "id": "24f969c9",
   "metadata": {},
   "source": [
    "Pri zapisu pogojnih razčlenjevalnikov uporabljamo operacijo `x |> f`, ki funkcijo `f` uporabi na vrednosti `x`. Isti primer kot zgoraj bi napisali na sledeč način, kjer je bolj jasno, da najprej preberemo znak, nato pa preverimo, da je eden od znakov niza `\"abc\"`."
   ]
  },
  {
   "cell_type": "code",
   "execution_count": 48,
   "id": "87deda2c",
   "metadata": {},
   "outputs": [
    {
     "data": {
      "text/plain": [
       "- : (char * string) option = Some ('a', \"23\")\n"
      ]
     },
     "execution_count": 48,
     "metadata": {},
     "output_type": "execute_result"
    }
   ],
   "source": [
    "character |> satisfy (String.contains \"abc\") $$$ \"a23\""
   ]
  },
  {
   "cell_type": "markdown",
   "id": "ef4635a6",
   "metadata": {},
   "source": [
    "Konkretna uporaba kombinatorja `satisfy` je razčlenjevalnik `exactly`, ki sprejme natanko znak `chr`:"
   ]
  },
  {
   "cell_type": "code",
   "execution_count": 49,
   "id": "cca253ea",
   "metadata": {},
   "outputs": [
    {
     "data": {
      "text/plain": [
       "val exactly : char -> char parser = <fun>\n"
      ]
     },
     "execution_count": 49,
     "metadata": {},
     "output_type": "execute_result"
    }
   ],
   "source": [
    "let exactly chr = character |> satisfy (( = ) chr)"
   ]
  },
  {
   "cell_type": "code",
   "execution_count": 50,
   "id": "fd31201d",
   "metadata": {},
   "outputs": [
    {
     "data": {
      "text/plain": [
       "- : (char * string) option = Some ('a', \"bc\")\n"
      ]
     },
     "execution_count": 50,
     "metadata": {},
     "output_type": "execute_result"
    }
   ],
   "source": [
    "(exactly 'a' || exactly 'b') $$$ \"abc\""
   ]
  },
  {
   "cell_type": "markdown",
   "id": "1c5c94c7",
   "metadata": {},
   "source": [
    "Enako si lahko definiramo razčlenjevalnike, ki sprejemajo samo števke, črke ali presledke:"
   ]
  },
  {
   "cell_type": "code",
   "execution_count": 51,
   "id": "3f3bebcc",
   "metadata": {},
   "outputs": [
    {
     "data": {
      "text/plain": [
       "val digit : char parser = <fun>\n"
      ]
     },
     "execution_count": 51,
     "metadata": {},
     "output_type": "execute_result"
    },
    {
     "data": {
      "text/plain": [
       "val alpha : char parser = <fun>\n"
      ]
     },
     "execution_count": 51,
     "metadata": {},
     "output_type": "execute_result"
    },
    {
     "data": {
      "text/plain": [
       "val space : char parser = <fun>\n"
      ]
     },
     "execution_count": 51,
     "metadata": {},
     "output_type": "execute_result"
    }
   ],
   "source": [
    "let digit =\n",
    "  let is_digit = String.contains \"0123456789\" in\n",
    "  character |> satisfy is_digit\n",
    "\n",
    "let alpha =\n",
    "  let is_alpha = String.contains \"abcdefghijklmnopqrstvwuxyz\" in\n",
    "  character |> satisfy is_alpha\n",
    "\n",
    "let space =\n",
    "  let is_space = String.contains \" \\n\\t\\r\" in\n",
    "  character |> satisfy is_space"
   ]
  },
  {
   "cell_type": "markdown",
   "id": "c9fd061c",
   "metadata": {},
   "source": [
    "Podoben kombinator je `map`, ki prebere rezultat `v` in ga pretvori s pomočjo funkcije `f`."
   ]
  },
  {
   "cell_type": "code",
   "execution_count": 52,
   "id": "7505ae72",
   "metadata": {},
   "outputs": [
    {
     "data": {
      "text/plain": [
       "val map : ('a -> 'b) -> 'a parser -> 'b parser = <fun>\n"
      ]
     },
     "execution_count": 52,
     "metadata": {},
     "output_type": "execute_result"
    }
   ],
   "source": [
    "let map f parser = parser >>= fun v -> return (f v)"
   ]
  },
  {
   "cell_type": "code",
   "execution_count": 53,
   "id": "8f200b86",
   "metadata": {},
   "outputs": [
    {
     "data": {
      "text/plain": [
       "- : (char * string) option = Some ('A', \"bc\")\n"
      ]
     },
     "execution_count": 53,
     "metadata": {},
     "output_type": "execute_result"
    }
   ],
   "source": [
    "(character |> map Char.uppercase_ascii) $$$ \"abc\""
   ]
  },
  {
   "cell_type": "markdown",
   "id": "550d4925",
   "metadata": {},
   "source": [
    "Poseben primer operacije `>>=` je `>>`, kjer ne upoštevamo vrednosti, ki jo je prebral prvi razčlenjevalnik. Na primer, vemo, da se zanka vedno začne s ključno besedo `while`, ampak sama vrednost `\"while\"` za pomen programa ni pomembna."
   ]
  },
  {
   "cell_type": "code",
   "execution_count": 54,
   "id": "9260312b",
   "metadata": {},
   "outputs": [
    {
     "data": {
      "text/plain": [
       "val ( >> ) : 'a parser -> 'b parser -> 'b parser = <fun>\n"
      ]
     },
     "execution_count": 54,
     "metadata": {},
     "output_type": "execute_result"
    }
   ],
   "source": [
    "let ( >> ) parser1 parser2 = parser1 >>= fun _ -> parser2"
   ]
  },
  {
   "cell_type": "code",
   "execution_count": 55,
   "id": "3fdecc64",
   "metadata": {},
   "outputs": [
    {
     "data": {
      "text/plain": [
       "- : (char * string) option = Some ('c', \"de\")\n"
      ]
     },
     "execution_count": 55,
     "metadata": {},
     "output_type": "execute_result"
    }
   ],
   "source": [
    "(exactly 'a' >> exactly 'b' >> character) $$$ \"abcde\""
   ]
  },
  {
   "cell_type": "code",
   "execution_count": 56,
   "id": "0e153f91",
   "metadata": {},
   "outputs": [
    {
     "data": {
      "text/plain": [
       "- : (char * string) option = None\n"
      ]
     },
     "execution_count": 56,
     "metadata": {},
     "output_type": "execute_result"
    }
   ],
   "source": [
    "(exactly 'a' >> exactly 'b' >> character) $$$ \"bacde\""
   ]
  },
  {
   "cell_type": "markdown",
   "id": "7fb7f63d",
   "metadata": {},
   "source": [
    "Postopek lahko posplošimo na poljuben niz znakov. Razčlenjevalnik napišemo tako, da besedo `str` razbijemo na seznam znakov `chrs`, nato iz tega naredimo seznam razčlenjevalnikov, ki zaporedoma sprejemajo natanko te znake, nato pa jih vse skupaj verižimo s pomočjo `>>`. Ta razčlenjevalnik bomo uporabljali za prebiranje ključnih besed kot so `while`, `if` in podobno, zato na koncu vrnemo vrednost `()`."
   ]
  },
  {
   "cell_type": "code",
   "execution_count": 57,
   "id": "caff976b",
   "metadata": {},
   "outputs": [
    {
     "data": {
      "text/plain": [
       "val word : string -> unit parser = <fun>\n"
      ]
     },
     "execution_count": 57,
     "metadata": {},
     "output_type": "execute_result"
    }
   ],
   "source": [
    "let word str =\n",
    "  let chrs = explode str in\n",
    "  let chr_parsers = List.map exactly chrs in\n",
    "  List.fold_right ( >> ) chr_parsers (return ())"
   ]
  },
  {
   "cell_type": "code",
   "execution_count": 58,
   "id": "17d4949b",
   "metadata": {},
   "outputs": [
    {
     "data": {
      "text/plain": [
       "- : (unit * string) option = Some ((), \" TRUE DO SKIP\")\n"
      ]
     },
     "execution_count": 58,
     "metadata": {},
     "output_type": "execute_result"
    }
   ],
   "source": [
    "word \"WHILE\" $$$ \"WHILE TRUE DO SKIP\""
   ]
  },
  {
   "cell_type": "code",
   "execution_count": 59,
   "id": "3acde5a0",
   "metadata": {},
   "outputs": [
    {
     "data": {
      "text/plain": [
       "- : (unit * string) option = None\n"
      ]
     },
     "execution_count": 59,
     "metadata": {},
     "output_type": "execute_result"
    }
   ],
   "source": [
    "word \"WHILE\" $$$ \"IF TRUE THEN SKIP ELSE SKIP\""
   ]
  },
  {
   "cell_type": "markdown",
   "id": "b94819ef",
   "metadata": {},
   "source": [
    "Podobno lahko s pomočjo `fold_right` zaporedoma z `||` poskusimo vse razčlenjevalnike iz danega seznama:"
   ]
  },
  {
   "cell_type": "code",
   "execution_count": 60,
   "id": "1d2bb8da",
   "metadata": {},
   "outputs": [
    {
     "data": {
      "text/plain": [
       "val one_of : 'a parser list -> 'a parser = <fun>\n"
      ]
     },
     "execution_count": 60,
     "metadata": {},
     "output_type": "execute_result"
    }
   ],
   "source": [
    "let one_of parsers = List.fold_right ( || ) parsers fail"
   ]
  },
  {
   "cell_type": "code",
   "execution_count": 61,
   "id": "e5cc5066",
   "metadata": {},
   "outputs": [
    {
     "data": {
      "text/plain": [
       "- : (unit * string) option = Some ((), \" TRUE DO SKIP\")\n"
      ]
     },
     "execution_count": 61,
     "metadata": {},
     "output_type": "execute_result"
    }
   ],
   "source": [
    "one_of [word \"WHILE\"; word \"IF\"] $$$ \"WHILE TRUE DO SKIP\""
   ]
  },
  {
   "cell_type": "code",
   "execution_count": 62,
   "id": "b3895369",
   "metadata": {},
   "outputs": [
    {
     "data": {
      "text/plain": [
       "- : (unit * string) option = Some ((), \" TRUE THEN SKIP ELSE SKIP\")\n"
      ]
     },
     "execution_count": 62,
     "metadata": {},
     "output_type": "execute_result"
    }
   ],
   "source": [
    "one_of [word \"WHILE\"; word \"IF\"] $$$ \"IF TRUE THEN SKIP ELSE SKIP\""
   ]
  },
  {
   "cell_type": "code",
   "execution_count": 63,
   "id": "1251ea05",
   "metadata": {},
   "outputs": [
    {
     "data": {
      "text/plain": [
       "- : (unit * string) option = None\n"
      ]
     },
     "execution_count": 63,
     "metadata": {},
     "output_type": "execute_result"
    }
   ],
   "source": [
    "one_of [word \"WHILE\"; word \"IF\"] $$$ \"SKIP\""
   ]
  },
  {
   "cell_type": "markdown",
   "id": "25afeab8",
   "metadata": {},
   "source": [
    "Rekurzivno si lahko definiramo tudi razčlenjevalnika `many` in `many1`, ki dani razčlenjevalnik uporabita poljubno mnogokrat oziroma vsaj enkrat, vrneta pa seznam uspešno prebranih vrednosti:"
   ]
  },
  {
   "cell_type": "code",
   "execution_count": 64,
   "id": "9607727c",
   "metadata": {},
   "outputs": [
    {
     "data": {
      "text/plain": [
       "val many : 'a parser -> 'a list parser = <fun>\n",
       "val many1 : 'a parser -> 'a list parser = <fun>\n"
      ]
     },
     "execution_count": 64,
     "metadata": {},
     "output_type": "execute_result"
    }
   ],
   "source": [
    "let rec many parser = many1 parser || return []\n",
    "\n",
    "and many1 parser =\n",
    "  parser >>= fun v ->\n",
    "  many parser >>= fun vs -> return (v :: vs)"
   ]
  },
  {
   "cell_type": "code",
   "execution_count": 65,
   "id": "de8c57ec",
   "metadata": {},
   "outputs": [
    {
     "data": {
      "text/plain": [
       "- : (char list * string) option = Some (['1'; '2'; '3'; '4'], \"abc567\")\n"
      ]
     },
     "execution_count": 65,
     "metadata": {},
     "output_type": "execute_result"
    }
   ],
   "source": [
    "many digit $$$ \"1234abc567\""
   ]
  },
  {
   "cell_type": "markdown",
   "id": "38d29a96",
   "metadata": {},
   "source": [
    "S pomočjo vseh zgoraj naštetih kombinatorjev zdaj veliko lepše napišemo razčlenjevalnik za branje celih števil. Najprej moramo prebrati vsaj eno števko, nato seznam števk združimo v en sam niz, na koncu pa pogoljufamo in s pomočjo vgrajene funkcije to pretvorimo v število."
   ]
  },
  {
   "cell_type": "code",
   "execution_count": 66,
   "id": "d53dcf97",
   "metadata": {},
   "outputs": [
    {
     "data": {
      "text/plain": [
       "val integer : int parser = <fun>\n"
      ]
     },
     "execution_count": 66,
     "metadata": {},
     "output_type": "execute_result"
    }
   ],
   "source": [
    "let integer = many1 digit |> map implode |> map int_of_string"
   ]
  },
  {
   "cell_type": "code",
   "execution_count": 67,
   "id": "021029d3",
   "metadata": {},
   "outputs": [
    {
     "data": {
      "text/plain": [
       "- : (int * string) option = Some (123, \"abc\")\n"
      ]
     },
     "execution_count": 67,
     "metadata": {},
     "output_type": "execute_result"
    }
   ],
   "source": [
    "integer $$$ \"123abc\""
   ]
  },
  {
   "cell_type": "markdown",
   "id": "fc3b6b1f",
   "metadata": {},
   "source": [
    "#### Razčlenjevalniki za IMP\n",
    "\n",
    "Razvili smo vsa orodja, ki jih potrebujemo, da preberemo celotno sintakso jezika IMP. Za ločevanje med posameznimi deli bomo uporabili presledke. Pri ključnih besedah bomo zahtevali vsaj enega, okoli operatorjev pa ne nujno:"
   ]
  },
  {
   "cell_type": "code",
   "execution_count": 68,
   "id": "8f85fb3c",
   "metadata": {},
   "outputs": [
    {
     "data": {
      "text/plain": [
       "val spaces : unit parser = <fun>\n"
      ]
     },
     "execution_count": 68,
     "metadata": {},
     "output_type": "execute_result"
    },
    {
     "data": {
      "text/plain": [
       "val spaces1 : unit parser = <fun>\n"
      ]
     },
     "execution_count": 68,
     "metadata": {},
     "output_type": "execute_result"
    }
   ],
   "source": [
    "let spaces = many space >> return ()\n",
    "let spaces1 = many1 space >> return ()"
   ]
  },
  {
   "cell_type": "markdown",
   "id": "7cfb44ae",
   "metadata": {},
   "source": [
    "Zaradi enostavnosti bomo za večje podizraze zahtevali, da se pojavijo v oklepajih:"
   ]
  },
  {
   "cell_type": "code",
   "execution_count": 69,
   "id": "bb402c13",
   "metadata": {},
   "outputs": [
    {
     "data": {
      "text/plain": [
       "val parens : 'a parser -> 'a parser = <fun>\n"
      ]
     },
     "execution_count": 69,
     "metadata": {},
     "output_type": "execute_result"
    }
   ],
   "source": [
    "let parens parser =\n",
    "  exactly '(' >> spaces >> parser >>= fun v -> spaces >> exactly ')' >> return v"
   ]
  },
  {
   "cell_type": "code",
   "execution_count": 70,
   "id": "4693cdb5",
   "metadata": {},
   "outputs": [
    {
     "data": {
      "text/plain": [
       "- : (int * string) option = Some (1234, \"\")\n"
      ]
     },
     "execution_count": 70,
     "metadata": {},
     "output_type": "execute_result"
    }
   ],
   "source": [
    "parens integer $$$ \"(1234)\""
   ]
  },
  {
   "cell_type": "markdown",
   "id": "e32b926d",
   "metadata": {},
   "source": [
    "Lokacije se bodo začele z znakom `#`, ki jim bo sledilo ime. To bo sestavljeno iz alfanumeričnih znakov, od katerih mora biti prvi črka."
   ]
  },
  {
   "cell_type": "code",
   "execution_count": 71,
   "id": "9b9fec5c",
   "metadata": {},
   "outputs": [
    {
     "data": {
      "text/plain": [
       "val ident : string parser = <fun>\n"
      ]
     },
     "execution_count": 71,
     "metadata": {},
     "output_type": "execute_result"
    },
    {
     "data": {
      "text/plain": [
       "val location : location parser = <fun>\n"
      ]
     },
     "execution_count": 71,
     "metadata": {},
     "output_type": "execute_result"
    }
   ],
   "source": [
    "let ident =\n",
    "  alpha >>= fun chr ->\n",
    "  many (alpha || digit) >>= fun chrs -> return (implode (chr :: chrs))\n",
    "\n",
    "let location = word \"#\" >> ident >>= fun ident -> return (Location ident)"
   ]
  },
  {
   "cell_type": "code",
   "execution_count": 72,
   "id": "c9014e14",
   "metadata": {},
   "outputs": [
    {
     "data": {
      "text/plain": [
       "- : (location * string) option = Some (Location \"fact\", \"\")\n"
      ]
     },
     "execution_count": 72,
     "metadata": {},
     "output_type": "execute_result"
    }
   ],
   "source": [
    "location $$$ \"#fact\""
   ]
  },
  {
   "cell_type": "markdown",
   "id": "e332e75c",
   "metadata": {},
   "source": [
    "Dvojiška operacija je podana s simbolom `op`, njegovim pomenom `f` ter z razčlenjevalnikom argumentov `parser`. Med operacijo in argumentoma so morebitni presledki"
   ]
  },
  {
   "cell_type": "code",
   "execution_count": 73,
   "id": "1fea9728",
   "metadata": {},
   "outputs": [
    {
     "data": {
      "text/plain": [
       "val binop : 'a parser -> string -> ('a -> 'a -> 'b) -> 'b parser = <fun>\n"
      ]
     },
     "execution_count": 73,
     "metadata": {},
     "output_type": "execute_result"
    }
   ],
   "source": [
    "let binop parser op f =\n",
    "  parser >>= fun v1 ->\n",
    "  spaces >> word op >> spaces >>\n",
    "  parser >>= fun v2 ->\n",
    "  return (f v1 v2)"
   ]
  },
  {
   "cell_type": "markdown",
   "id": "67bacfd9",
   "metadata": {},
   "source": [
    "Pri razčlenjevalniku za aritmetične izraze sledimo sintaksi. Izrazi so lahko sestavljeni iz aritmetičnih operacij ali atomarni, pri čemer so atomarni izrazi lokacije, konstante ali običajni izrazi v oklepajih."
   ]
  },
  {
   "cell_type": "code",
   "execution_count": 74,
   "id": "e9bc2fcb",
   "metadata": {},
   "outputs": [
    {
     "data": {
      "text/plain": [
       "val exp : exp parser = <fun>\n",
       "val atomic_exp : exp parser = <fun>\n"
      ]
     },
     "execution_count": 74,
     "metadata": {},
     "output_type": "execute_result"
    }
   ],
   "source": [
    "let rec exp chrs =\n",
    "  one_of\n",
    "    [\n",
    "      binop atomic_exp \"+\" (fun e1 e2 -> Plus (e1, e2));\n",
    "      binop atomic_exp \"-\" (fun e1 e2 -> Minus (e1, e2));\n",
    "      binop atomic_exp \"*\" (fun e1 e2 -> Times (e1, e2));\n",
    "      atomic_exp;\n",
    "    ]\n",
    "    chrs\n",
    "\n",
    "and atomic_exp chrs =\n",
    "  one_of\n",
    "    [\n",
    "      (location >>= fun l -> return (Lookup l));\n",
    "      (integer >>= fun n -> return (Int n));\n",
    "      parens exp;\n",
    "    ]\n",
    "    chrs"
   ]
  },
  {
   "cell_type": "code",
   "execution_count": 75,
   "id": "1f82e417",
   "metadata": {},
   "outputs": [
    {
     "data": {
      "text/plain": [
       "- : (exp * string) option = Some (Plus (Int 1, Int 3), \"\")\n"
      ]
     },
     "execution_count": 75,
     "metadata": {},
     "output_type": "execute_result"
    }
   ],
   "source": [
    "exp $$$ \"1 + 3\""
   ]
  },
  {
   "cell_type": "markdown",
   "id": "7b48d33e",
   "metadata": {},
   "source": [
    "Podobno definiramo razčlenjevalnik za Booleove izraze:"
   ]
  },
  {
   "cell_type": "code",
   "execution_count": 76,
   "id": "f37958e9",
   "metadata": {},
   "outputs": [
    {
     "data": {
      "text/plain": [
       "val bexp : bexp parser = <fun>\n"
      ]
     },
     "execution_count": 76,
     "metadata": {},
     "output_type": "execute_result"
    }
   ],
   "source": [
    "let bexp =\n",
    "  one_of\n",
    "    [\n",
    "      word \"TRUE\" >> return (Bool true);\n",
    "      word \"FALSE\" >> return (Bool false);\n",
    "      binop exp \"=\" (fun e1 e2 -> Equal (e1, e2));\n",
    "      binop exp \"<\" (fun e1 e2 -> Less (e1, e2));\n",
    "      binop exp \">\" (fun e1 e2 -> Greater (e1, e2));\n",
    "    ]"
   ]
  },
  {
   "cell_type": "code",
   "execution_count": 77,
   "id": "86670603",
   "metadata": {},
   "outputs": [
    {
     "data": {
      "text/plain": [
       "- : (bexp * string) option =\n",
       "Some (Less (Plus (Int 1, Int 3), Times (Int 2, Int 4)), \"\")\n"
      ]
     },
     "execution_count": 77,
     "metadata": {},
     "output_type": "execute_result"
    }
   ],
   "source": [
    "bexp $$$ \"1 + 3 < 2 * 4\""
   ]
  },
  {
   "cell_type": "markdown",
   "id": "332a6b8c",
   "metadata": {},
   "source": [
    "Podobno definiramo tudi razčlenjevalnik za ukaze:"
   ]
  },
  {
   "cell_type": "code",
   "execution_count": 78,
   "id": "bea97bdc",
   "metadata": {},
   "outputs": [
    {
     "data": {
      "text/plain": [
       "val cmd : cmd parser = <fun>\n",
       "val atomic_cmd : cmd parser = <fun>\n"
      ]
     },
     "execution_count": 78,
     "metadata": {},
     "output_type": "execute_result"
    }
   ],
   "source": [
    "let rec cmd chrs =\n",
    "  let if_then_else =\n",
    "    word \"IF\" >> spaces1 >> bexp >>= fun b ->\n",
    "    spaces1 >> word \"THEN\" >> spaces1 >> cmd >>= fun c1 ->\n",
    "    spaces1 >> word \"ELSE\" >> spaces1 >> atomic_cmd >>= fun c2 ->\n",
    "    return (IfThenElse (b, c1, c2))\n",
    "  and while_do =\n",
    "    word \"WHILE\" >> spaces1 >> bexp >>= fun b ->\n",
    "    spaces1 >> word \"DO\" >> spaces1 >> atomic_cmd >>= fun c ->\n",
    "    return (WhileDo (b, c))\n",
    "  and seq =\n",
    "    atomic_cmd >>= fun c1 ->\n",
    "    spaces >> word \";\" >> spaces >> cmd >>= fun c2 ->\n",
    "    return (Seq (c1, c2))\n",
    "  in\n",
    "  one_of [ if_then_else; while_do; seq; atomic_cmd ] chrs\n",
    "\n",
    "and atomic_cmd chrs =\n",
    "  let assign =\n",
    "    location >>= fun l ->\n",
    "    spaces >> word \":=\" >> spaces >> exp >>= fun e ->\n",
    "    return (Assign (l, e))\n",
    "  and skip = word \"SKIP\" >> return Skip\n",
    "  in\n",
    "  one_of [ assign; skip; parens cmd ] chrs"
   ]
  },
  {
   "cell_type": "code",
   "execution_count": 79,
   "id": "2389d8de",
   "metadata": {},
   "outputs": [
    {
     "data": {
      "text/plain": [
       "- : (cmd * string) option =\n",
       "Some (IfThenElse (Less (Int 3, Int 4), Skip, Skip), \"\")\n"
      ]
     },
     "execution_count": 79,
     "metadata": {},
     "output_type": "execute_result"
    }
   ],
   "source": [
    "cmd $$$ \"IF 3 < 4 THEN SKIP ELSE SKIP\""
   ]
  },
  {
   "cell_type": "markdown",
   "id": "81ee4428",
   "metadata": {},
   "source": [
    "Vsaka IMP datoteka je sestavljena iz enega samega ukaza (ki je seveda lahko sestavljen iz več ukazov, ločenih s podpičjem). Da preberemo celotno datoteko, torej le pokličemo razčlenjevalnik `cmd`. Če nam ni ostalo nič neprebranih znakov, poženemo `eval_cmd` na praznem seznamu, sicer pa program zavrnemo:"
   ]
  },
  {
   "cell_type": "code",
   "execution_count": 80,
   "id": "a37ca4cc",
   "metadata": {},
   "outputs": [
    {
     "data": {
      "text/plain": [
       "val run : string -> (location * int) list = <fun>\n"
      ]
     },
     "execution_count": 80,
     "metadata": {},
     "output_type": "execute_result"
    }
   ],
   "source": [
    "let run str =\n",
    "  match str |> String.trim |> explode |> cmd with\n",
    "  | Some (c, []) -> eval_cmd [] c\n",
    "  | Some (_, _ :: _) | None -> failwith \"Parsing error\""
   ]
  },
  {
   "cell_type": "code",
   "execution_count": 81,
   "id": "16621f57",
   "metadata": {},
   "outputs": [
    {
     "data": {
      "text/plain": [
       "- : (location * int) list = [(Location \"n\", 0); (Location \"fact\", 3628800)]\n"
      ]
     },
     "execution_count": 81,
     "metadata": {},
     "output_type": "execute_result"
    }
   ],
   "source": [
    "run \"#n := 10; #fact := 1; WHILE #n > 0 DO ( #fact := #fact * #n; #n := #n - 1 )\""
   ]
  }
 ],
 "metadata": {
  "jupytext": {
   "text_representation": {
    "extension": ".md",
    "format_name": "myst",
    "format_version": 0.12,
    "jupytext_version": "1.8.0"
   }
  },
  "kernelspec": {
   "display_name": "OCaml 4.11",
   "language": "OCaml",
   "name": "ocaml-jupyter"
  },
  "language_info": {
   "codemirror_mode": "text/x-ocaml",
   "file_extension": ".ml",
   "mimetype": "text/x-ocaml",
   "name": "OCaml",
   "nbconverter_exporter": null,
   "pygments_lexer": "OCaml",
   "version": "4.14.1"
  },
  "source_map": [
   12,
   16,
   22,
   156,
   180,
   184,
   187,
   191,
   193,
   197,
   200,
   206,
   211,
   218,
   222,
   226,
   230,
   232,
   236,
   244,
   248,
   250,
   254,
   271,
   275,
   279,
   283,
   285,
   303,
   308,
   312,
   314,
   318,
   321,
   325,
   341,
   345,
   349,
   351,
   355,
   360,
   364,
   366,
   372,
   376,
   378,
   382,
   386,
   388,
   392,
   398,
   402,
   404,
   408,
   416,
   420,
   422,
   426,
   432,
   438,
   442,
   444,
   448,
   450,
   456,
   460,
   462,
   466,
   469,
   473,
   477,
   479,
   483,
   485,
   489,
   493,
   495,
   499,
   512,
   516,
   520,
   522,
   526,
   530,
   534,
   536,
   540,
   547,
   551,
   553,
   557,
   561,
   565,
   569,
   571,
   575,
   583,
   585,
   589,
   593,
   595,
   601,
   604,
   608,
   613,
   615,
   619,
   627,
   629,
   633,
   639,
   643,
   664,
   666,
   670,
   682,
   684,
   688,
   716,
   718,
   722,
   729
  ]
 },
 "nbformat": 4,
 "nbformat_minor": 5
}