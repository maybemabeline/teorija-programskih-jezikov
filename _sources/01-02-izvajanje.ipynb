{
 "cells": [
  {
   "cell_type": "markdown",
   "id": "3b18e6e2",
   "metadata": {},
   "source": [
    "# Izvajanje\n",
    "\n",
    "Običajno bi po sintaksi jezika formalno podali še njegovo semantiko, torej pomen posameznih delov. Ker za to še nimamo ustreznih matematičnih orodij, bomo ravnali podobno kot pri večini programskih jezikov: napisali bomo implementacijo, torej program, ki prebere ukaze, zapisane v konkretni sintaksi, ter jih na nek (po vsej sreči smiselen) način izvede. Nato pa bomo proglasili, da je pomen programa v IMPu tisto, kar implementacija z njim naredi. Implementacijo bomo napisali v programskem jeziku [OCaml](https://ocaml.org), ki je eden najprikladnejših jezikov za implementacije programskih jezikov. Končnica `ML` namreč pomeni _meta-language_ oziroma metajezik, torej jezik za opis jezikov.\n",
    "\n",
    "Spomnimo se abstraktne sintakse jezika IMP:"
   ]
  },
  {
   "cell_type": "code",
   "execution_count": 1,
   "id": "17d32c70",
   "metadata": {
    "tags": [
     "remove-output"
    ]
   },
   "outputs": [
    {
     "data": {
      "text/plain": [
       "type location = Location of string\n"
      ]
     },
     "execution_count": 1,
     "metadata": {},
     "output_type": "execute_result"
    },
    {
     "data": {
      "text/plain": [
       "type exp =\n",
       "    Lookup of location\n",
       "  | Int of int\n",
       "  | Plus of exp * exp\n",
       "  | Minus of exp * exp\n",
       "  | Times of exp * exp\n"
      ]
     },
     "execution_count": 1,
     "metadata": {},
     "output_type": "execute_result"
    },
    {
     "data": {
      "text/plain": [
       "type bexp =\n",
       "    Bool of bool\n",
       "  | Equal of exp * exp\n",
       "  | Less of exp * exp\n",
       "  | Greater of exp * exp\n"
      ]
     },
     "execution_count": 1,
     "metadata": {},
     "output_type": "execute_result"
    },
    {
     "data": {
      "text/plain": [
       "type cmd =\n",
       "    IfThenElse of bexp * cmd * cmd\n",
       "  | WhileDo of bexp * cmd\n",
       "  | Seq of cmd * cmd\n",
       "  | Assign of location * exp\n",
       "  | Skip\n"
      ]
     },
     "execution_count": 1,
     "metadata": {},
     "output_type": "execute_result"
    }
   ],
   "source": [
    "type location = Location of string\n",
    "\n",
    "type exp =\n",
    "  | Lookup of location\n",
    "  | Int of int\n",
    "  | Plus of exp * exp\n",
    "  | Minus of exp * exp\n",
    "  | Times of exp * exp\n",
    "\n",
    "type bexp =\n",
    "  | Bool of bool\n",
    "  | Equal of exp * exp\n",
    "  | Less of exp * exp\n",
    "  | Greater of exp * exp\n",
    "\n",
    "type cmd =\n",
    "  | IfThenElse of bexp * cmd * cmd\n",
    "  | WhileDo of bexp * cmd\n",
    "  | Seq of cmd * cmd\n",
    "  | Assign of location * exp\n",
    "  | Skip"
   ]
  },
  {
   "cell_type": "markdown",
   "id": "8d9d6561",
   "metadata": {},
   "source": [
    "in primerov"
   ]
  },
  {
   "cell_type": "code",
   "execution_count": 2,
   "id": "7c2b0006",
   "metadata": {},
   "outputs": [
    {
     "data": {
      "text/plain": [
       "val exp1 : exp = Times (Int 6, Int 7)\n"
      ]
     },
     "execution_count": 2,
     "metadata": {},
     "output_type": "execute_result"
    },
    {
     "data": {
      "text/plain": [
       "val exp2 : exp = Minus (Lookup (Location \"m\"), Int 1)\n"
      ]
     },
     "execution_count": 2,
     "metadata": {},
     "output_type": "execute_result"
    },
    {
     "data": {
      "text/plain": [
       "val bexp : bexp = Greater (Lookup (Location \"m\"), Int 0)\n"
      ]
     },
     "execution_count": 2,
     "metadata": {},
     "output_type": "execute_result"
    },
    {
     "data": {
      "text/plain": [
       "val cmd1 : cmd = Assign (Location \"m\", Minus (Lookup (Location \"m\"), Int 1))\n"
      ]
     },
     "execution_count": 2,
     "metadata": {},
     "output_type": "execute_result"
    },
    {
     "data": {
      "text/plain": [
       "val cmd2 : cmd =\n",
       "  WhileDo (Greater (Lookup (Location \"m\"), Int 0),\n",
       "   Assign (Location \"m\", Minus (Lookup (Location \"m\"), Int 1)))\n"
      ]
     },
     "execution_count": 2,
     "metadata": {},
     "output_type": "execute_result"
    }
   ],
   "source": [
    "let exp1 = Times (Int 6, Int 7)\n",
    "let exp2 = Minus (Lookup (Location \"m\"), Int 1)\n",
    "let bexp = Greater (Lookup (Location \"m\"), Int 0)\n",
    "let cmd1 = Assign (Location \"m\", exp2)\n",
    "let cmd2 = WhileDo (bexp, cmd1)"
   ]
  },
  {
   "cell_type": "markdown",
   "id": "bf0a149c",
   "metadata": {},
   "source": [
    "## Aritmetični in logični izrazi\n",
    "\n",
    "Pomen bomo najprej določili aritmetičnim izrazom, ki naj bi predstavljali cela števila. Ker izrazi lahko vsebujejo pomnilniške lokacije, mora funkcija za evalvacijo poleg izraza sprejeti tudi trenutno stanje pomnilnika, ki ga bomo predstavili kar s seznamom parov, ki danim lokacijam pripiše cela števila, na primer"
   ]
  },
  {
   "cell_type": "code",
   "execution_count": 3,
   "id": "84b24313",
   "metadata": {},
   "outputs": [
    {
     "data": {
      "text/plain": [
       "val st1 : (location * int) list = [(Location \"m\", 10); (Location \"n\", 0)]\n"
      ]
     },
     "execution_count": 3,
     "metadata": {},
     "output_type": "execute_result"
    },
    {
     "data": {
      "text/plain": [
       "val st2 : (location * int) list = [(Location \"m\", 5)]\n"
      ]
     },
     "execution_count": 3,
     "metadata": {},
     "output_type": "execute_result"
    }
   ],
   "source": [
    "let st1 = [(Location \"m\", 10); (Location \"n\", 0)]\n",
    "let st2 = [(Location \"m\", 5)]"
   ]
  },
  {
   "cell_type": "code",
   "execution_count": 4,
   "id": "85994a43",
   "metadata": {},
   "outputs": [
    {
     "data": {
      "text/plain": [
       "val eval_exp : (location * int) list -> exp -> int = <fun>\n"
      ]
     },
     "execution_count": 4,
     "metadata": {},
     "output_type": "execute_result"
    }
   ],
   "source": [
    "let rec eval_exp st = function\n",
    "  | Lookup l -> List.assoc l st\n",
    "  | Int n -> n\n",
    "  | Plus (e1, e2) -> eval_exp st e1 + eval_exp st e2\n",
    "  | Minus (e1, e2) -> eval_exp st e1 - eval_exp st e2\n",
    "  | Times (e1, e2) -> eval_exp st e1 * eval_exp st e2"
   ]
  },
  {
   "cell_type": "markdown",
   "id": "15c20e37",
   "metadata": {},
   "source": [
    "Tako na primer velja"
   ]
  },
  {
   "cell_type": "code",
   "execution_count": 5,
   "id": "223189bc",
   "metadata": {},
   "outputs": [
    {
     "data": {
      "text/plain": [
       "- : int = 42\n"
      ]
     },
     "execution_count": 5,
     "metadata": {},
     "output_type": "execute_result"
    }
   ],
   "source": [
    "eval_exp [] exp1"
   ]
  },
  {
   "cell_type": "code",
   "execution_count": 6,
   "id": "a0fa2f7a",
   "metadata": {},
   "outputs": [
    {
     "data": {
      "text/plain": [
       "- : int = 9\n"
      ]
     },
     "execution_count": 6,
     "metadata": {},
     "output_type": "execute_result"
    }
   ],
   "source": [
    "eval_exp st1 exp2"
   ]
  },
  {
   "cell_type": "code",
   "execution_count": 7,
   "id": "abeb3370",
   "metadata": {},
   "outputs": [
    {
     "data": {
      "text/plain": [
       "- : int = 4\n"
      ]
     },
     "execution_count": 7,
     "metadata": {},
     "output_type": "execute_result"
    }
   ],
   "source": [
    "eval_exp st2 exp2"
   ]
  },
  {
   "cell_type": "markdown",
   "id": "b6093778",
   "metadata": {},
   "source": [
    "Podobno lahko definiramo funkcijo za evalvacijo logičnih izrazov, ki sprejme stanje in logični izraz ter vrne logično vrednost:"
   ]
  },
  {
   "cell_type": "code",
   "execution_count": 8,
   "id": "5434c462",
   "metadata": {},
   "outputs": [
    {
     "data": {
      "text/plain": [
       "val eval_bexp : (location * int) list -> bexp -> bool = <fun>\n"
      ]
     },
     "execution_count": 8,
     "metadata": {},
     "output_type": "execute_result"
    }
   ],
   "source": [
    "let eval_bexp st = function\n",
    "  | Bool b -> b\n",
    "  | Equal (e1, e2) -> eval_exp st e1 = eval_exp st e2\n",
    "  | Less (e1, e2) -> eval_exp st e1 < eval_exp st e2\n",
    "  | Greater (e1, e2) -> eval_exp st e1 > eval_exp st e2"
   ]
  },
  {
   "cell_type": "code",
   "execution_count": 9,
   "id": "a4fd059a",
   "metadata": {},
   "outputs": [
    {
     "data": {
      "text/plain": [
       "- : bool = true\n"
      ]
     },
     "execution_count": 9,
     "metadata": {},
     "output_type": "execute_result"
    }
   ],
   "source": [
    "eval_bexp st1 bexp"
   ]
  },
  {
   "cell_type": "code",
   "execution_count": 10,
   "id": "6815bcf5",
   "metadata": {},
   "outputs": [
    {
     "data": {
      "text/plain": [
       "- : bool = true\n"
      ]
     },
     "execution_count": 10,
     "metadata": {},
     "output_type": "execute_result"
    }
   ],
   "source": [
    "eval_bexp st2 bexp"
   ]
  },
  {
   "cell_type": "markdown",
   "id": "f6b1f334",
   "metadata": {},
   "source": [
    "## Ukazi\n",
    "\n",
    "Nazadnje definirajmo še funkcijo za evalvacijo ukazov. Funkcija sprejme stanje in ukaz, vrne pa končno vrednost stanja po izvršenem ukazu."
   ]
  },
  {
   "cell_type": "code",
   "execution_count": 11,
   "id": "11c43672",
   "metadata": {},
   "outputs": [
    {
     "data": {
      "text/plain": [
       "val eval_cmd : (location * int) list -> cmd -> (location * int) list = <fun>\n"
      ]
     },
     "execution_count": 11,
     "metadata": {},
     "output_type": "execute_result"
    }
   ],
   "source": [
    "let rec eval_cmd st = function\n",
    "  | IfThenElse (b, c1, c2) ->\n",
    "      if eval_bexp st b then eval_cmd st c1 else eval_cmd st c2\n",
    "  | WhileDo (b, c) ->\n",
    "      (* eval_cmd st (IfThenElse (b, Seq (c, WhileDo (b, c)), Skip)) *)\n",
    "      if eval_bexp st b then\n",
    "        let st' = eval_cmd st c in\n",
    "        eval_cmd st' (WhileDo (b, c))\n",
    "      else st\n",
    "  | Seq (c1, c2) ->\n",
    "      let st' = eval_cmd st c1 in\n",
    "      eval_cmd st' c2\n",
    "  | Assign (l, e) -> (l, eval_exp st e) :: List.remove_assoc l st\n",
    "  | Skip -> st"
   ]
  },
  {
   "cell_type": "code",
   "execution_count": 12,
   "id": "d811c793",
   "metadata": {},
   "outputs": [
    {
     "data": {
      "text/plain": [
       "- : (location * int) list = [(Location \"m\", 9); (Location \"n\", 0)]\n"
      ]
     },
     "execution_count": 12,
     "metadata": {},
     "output_type": "execute_result"
    }
   ],
   "source": [
    "eval_cmd st1 cmd1"
   ]
  },
  {
   "cell_type": "code",
   "execution_count": 13,
   "id": "69496430",
   "metadata": {},
   "outputs": [
    {
     "data": {
      "text/plain": [
       "- : (location * int) list = [(Location \"m\", 4)]\n"
      ]
     },
     "execution_count": 13,
     "metadata": {},
     "output_type": "execute_result"
    }
   ],
   "source": [
    "eval_cmd st2 cmd1"
   ]
  },
  {
   "cell_type": "code",
   "execution_count": 14,
   "id": "efd09003",
   "metadata": {},
   "outputs": [
    {
     "data": {
      "text/plain": [
       "- : (location * int) list = [(Location \"m\", 0); (Location \"n\", 0)]\n"
      ]
     },
     "execution_count": 14,
     "metadata": {},
     "output_type": "execute_result"
    }
   ],
   "source": [
    "eval_cmd st1 cmd2"
   ]
  },
  {
   "cell_type": "code",
   "execution_count": 15,
   "id": "2385207f",
   "metadata": {},
   "outputs": [
    {
     "data": {
      "text/plain": [
       "- : (location * int) list = [(Location \"m\", 0)]\n"
      ]
     },
     "execution_count": 15,
     "metadata": {},
     "output_type": "execute_result"
    }
   ],
   "source": [
    "eval_cmd st2 cmd2"
   ]
  },
  {
   "cell_type": "markdown",
   "id": "85b8a12e",
   "metadata": {},
   "source": [
    "## Vaje\n",
    "\n",
    "### Naloga 1\n",
    "\n",
    "Razmislite, kako bi dopolnili evalvator jezika IMP za:\n",
    "\n",
    "1. logična veznika `&&` in `||`,\n",
    "\n",
    "2. ukaz `SWITCH`, ki zamenja vrednosti dveh lokacij,\n",
    "\n",
    "3. ukaz `FAIL`, ki prekine izvajanje programa."
   ]
  }
 ],
 "metadata": {
  "jupytext": {
   "text_representation": {
    "extension": ".md",
    "format_name": "myst",
    "format_version": 0.12,
    "jupytext_version": "1.8.0"
   }
  },
  "kernelspec": {
   "display_name": "OCaml 4.11",
   "language": "OCaml",
   "name": "ocaml-jupyter"
  },
  "language_info": {
   "codemirror_mode": "text/x-ocaml",
   "file_extension": ".ml",
   "mimetype": "text/x-ocaml",
   "name": "OCaml",
   "nbconverter_exporter": null,
   "pygments_lexer": "OCaml",
   "version": "4.14.1"
  },
  "source_map": [
   12,
   20,
   44,
   48,
   54,
   60,
   65,
   72,
   76,
   80,
   84,
   86,
   90,
   98,
   102,
   104,
   110,
   127,
   131,
   135,
   139,
   141
  ]
 },
 "nbformat": 4,
 "nbformat_minor": 5
}