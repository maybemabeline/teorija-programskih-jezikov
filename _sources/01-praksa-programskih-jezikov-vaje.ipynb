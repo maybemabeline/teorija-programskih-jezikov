{
 "cells": [
  {
   "cell_type": "markdown",
   "id": "b66796fd",
   "metadata": {},
   "source": [
    "# Vaje"
   ]
  },
  {
   "cell_type": "code",
   "execution_count": 1,
   "id": "649fcab0",
   "metadata": {
    "tags": [
     "remove-cell",
     "remove-stdout"
    ]
   },
   "outputs": [],
   "source": [
    "(* Ko se v Jupytru prvič požene OCaml, program Findlib izpiše neko sporočilo.\n",
    "   Da se to sporočilo ne bi videlo v zapiskih, je tu ta celica, ki sproži izpis,\n",
    "   vendar ima nastavljeno, da je v zapiskih v celoti skrita. *)"
   ]
  },
  {
   "cell_type": "markdown",
   "id": "b1c7029c",
   "metadata": {},
   "source": [
    "## Naloga 1\n",
    "\n",
    "Napišite sintaktično drevo, ki ustreza programom:\n",
    "\n",
    "```text\n",
    "#a := 2 + #b\n",
    "```\n",
    "\n",
    "```text\n",
    "IF #x = 2 THEN \n",
    "  #x := 3\n",
    "ELSE\n",
    "  SKIP\n",
    "```\n",
    "\n",
    "```text\n",
    "WHILE #z > 0 DO \n",
    "  #z := #z - 1;\n",
    "  #w := #z + #w\n",
    "```\n",
    "\n",
    "```text\n",
    "(WHILE #z > 0 DO #z := #z - 1);\n",
    "#w := #z + #w\n",
    "```\n",
    "\n",
    "## Naloga 2\n",
    "\n",
    "Programe najprej napišite v OCamlu, nato pa jih prevedite v programski jezik IMP s predavanj.\n",
    "\n",
    "1. Napišite program, ki sešteje vsa naravna števila manjša od `n`.\n",
    "\n",
    "2. Napišite program, ki preveri ali je podano število praštevilo.\n",
    "\n",
    "## Naloga 3\n",
    "\n",
    "Razmislite, kako bi dopolnili sintakso in evaluator jezika IMP za:\n",
    "\n",
    "1. logična veznika `&&` in `||`,\n",
    "\n",
    "2. ukaz `SWITCH`, ki zamenja vrednosti dveh lokacij,\n",
    "\n",
    "3. ukaz `FAIL`, ki prekine izvajanje programa.\n",
    "\n",
    "## Naloga 4\n",
    "\n",
    "Izboljšajte razčlenjevalnik, da bo dopolnil nepopolne pogojne stavke. Ukaz `IF b THEN c` naj se prevede v enako sintaktično drevo kot `IF b THEN c ELSE SKIP`.\n",
    "\n",
    "## Naloga 5\n",
    "\n",
    "Dopolnite vse dele IMPa s podporo za zanke `FOR` oblike:\n",
    "\n",
    "```text\n",
    "FOR #x := 0 TO 100 DO\n",
    "  cmd\n",
    "```\n",
    "\n",
    "Pri tem sta `0` in `100` seveda zgolj zgled poljubnih aritmetičnih izrazov."
   ]
  }
 ],
 "metadata": {
  "jupytext": {
   "text_representation": {
    "extension": ".md",
    "format_name": "myst",
    "format_version": 0.12,
    "jupytext_version": "1.8.0"
   }
  },
  "kernelspec": {
   "display_name": "OCaml 4.11",
   "language": "OCaml",
   "name": "ocaml-jupyter"
  },
  "language_info": {
   "codemirror_mode": "text/x-ocaml",
   "file_extension": ".ml",
   "mimetype": "text/x-ocaml",
   "name": "OCaml",
   "nbconverter_exporter": null,
   "pygments_lexer": "OCaml",
   "version": "4.14.1"
  },
  "source_map": [
   12,
   16,
   22
  ]
 },
 "nbformat": 4,
 "nbformat_minor": 5
}