{
 "cells": [
  {
   "cell_type": "markdown",
   "id": "1c2e6136",
   "metadata": {},
   "source": [
    "# Vaje"
   ]
  },
  {
   "cell_type": "code",
   "execution_count": 1,
   "id": "46c3f6c3",
   "metadata": {
    "tags": [
     "remove-cell",
     "remove-stdout"
    ]
   },
   "outputs": [],
   "source": [
    "(* Ko se v Jupytru prvič požene OCaml, program Findlib izpiše neko sporočilo.\n",
    "   Da se to sporočilo ne bi videlo v zapiskih, je tu ta celica, ki sproži izpis,\n",
    "   vendar ima nastavljeno, da je v zapiskih v celoti skrita. *)"
   ]
  },
  {
   "cell_type": "markdown",
   "id": "d8169a8e",
   "metadata": {},
   "source": [
    "## Naloga 1\n",
    "\n",
    "S semantiko malih korakov izračunajte zaporedje korakov, ki izračunajo vrednost izrazov:\n",
    "\n",
    "1. `(2 * 2) + (3 * 3)`\n",
    "2. `(fun x -> if x + 1 > 0 then x else 0) 12`\n",
    "3. `(rec f x. if x = 0 then 1 else x * f (x - 1)) 3``\n",
    "\n",
    "## Naloga 2\n",
    "\n",
    "Zgornja operacijska semantika sledi neučakanemu izvajanju, saj pri uporabi funkcije najprej izračunamo vrednost argumenta in dobljeno vrednost substituiramo v telo funkcije. Pri lenem izvajanju pa pri uporabi funkcije argument še neizračunan substituiramo v telo funkcije. Popravite semantiko na leno izvajanje (potrebno je spremeniti zgolj pravila za aplikacijo funkcij) ter primerjajte izvajanje na primerih:\n",
    "\n",
    "1. `(fun x -> (fun y -> if x > 0 then y else 0)) 1 (4*((4+2)*3))`\n",
    "2. `(fun x -> (x * x) + x) (3*(2+(4*0)))`\n",
    "\n",
    "## Naloga 3\n",
    "\n",
    "Preverite tipe izrazov. Izrazi morda nimajo primernega tipa. V tem primeru poiščite mesto, kjer se postopek zatakne.\n",
    "\n",
    "  1. `b:bool, x:int |- 1 + (if b then 2 else x) : int`\n",
    "  2. `|- fun x -> (fun y -> x > y) : int -> int -> bool`\n",
    "  3. `|- (rec f x -> if x then f x else 0) true : int`\n",
    "  4. `f : int -> int |- (f 3) > (f (f 0)) 2 : bool`\n",
    "\n",
    "## Naloga 4\n",
    "\n",
    "Napišite nekaj izrazov, katerim ni možno dodeliti tipa, vendar se izračunajo v vrednost.\n",
    "\n",
    "## Naloga 5\n",
    "\n",
    "Razširite jezik in sistem tipov s pari, seznami in vsotami. Za pare dodajte projekciji na posamezno komponento, za sezname in vsote pa dodajte razgrajevalnik `match`.\n",
    "\n",
    "Kot dodaten izziv premislite, kako razširitve narediti v lenem izvajanju in napišite funkcijo, ki zgradi neskončen seznam ničel.\n",
    "\n",
    "## Naloga 6\n",
    "\n",
    "V jeziku iz naloge 3 poiščite primeren tip za spodnji izraz in ustreznost preverite z izpeljavo, v primeru ko sta s `fst` in `snd` označeni projekciji na prvo in drugo komponento para.\n",
    "\n",
    "``` (fun p -> (match fst p with [] -> true | x :: xs -> snd p)) (1::2::[], false) ```\n",
    "\n",
    "## Naloga 7\n",
    "\n",
    "Pokažite, kako lahko v jezik dodamo medsebojno rekurzivne funkcije."
   ]
  }
 ],
 "metadata": {
  "jupytext": {
   "text_representation": {
    "extension": ".md",
    "format_name": "myst",
    "format_version": 0.12,
    "jupytext_version": "1.8.0"
   }
  },
  "kernelspec": {
   "display_name": "OCaml 4.11",
   "language": "OCaml",
   "name": "ocaml-jupyter"
  },
  "language_info": {
   "codemirror_mode": "text/x-ocaml",
   "file_extension": ".ml",
   "mimetype": "text/x-ocaml",
   "name": "OCaml",
   "nbconverter_exporter": null,
   "pygments_lexer": "OCaml",
   "version": "4.14.1"
  },
  "source_map": [
   12,
   16,
   22
  ]
 },
 "nbformat": 4,
 "nbformat_minor": 5
}