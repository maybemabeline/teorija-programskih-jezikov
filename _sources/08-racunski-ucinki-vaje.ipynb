{
 "cells": [
  {
   "cell_type": "markdown",
   "id": "74952f7e",
   "metadata": {},
   "source": [
    "# Vaje"
   ]
  },
  {
   "cell_type": "code",
   "execution_count": 1,
   "id": "d2f64cb4",
   "metadata": {
    "tags": [
     "remove-cell",
     "remove-stdout"
    ]
   },
   "outputs": [],
   "source": [
    "(* Ko se v Jupytru prvič požene OCaml, program Findlib izpiše neko sporočilo.\n",
    "   Da se to sporočilo ne bi videlo v zapiskih, je tu ta celica, ki sproži izpis,\n",
    "   vendar ima nastavljeno, da je v zapiskih v celoti skrita. *)"
   ]
  },
  {
   "cell_type": "markdown",
   "id": "9deac63d",
   "metadata": {},
   "source": [
    "## Naloga 1\n",
    "\n",
    "Lambda račun razširite z učinkoma za branje in pisanje (IO). Pri tem se osredotočimo zgolj na branje in pisanje celih števil.\n",
    "\n",
    "Da lahko beležimo v katerem koraku program nekaj prebere oz. izpiše, naj nova operacijska semantika uporablja označene puščice.\n",
    "\n",
    "- Če se v koraku ni zgodilo nič, potem uporabimo navadno puščico.\n",
    "- Če smo v koraku izpisali število `n`, potem puščico označimo z `!n`.\n",
    "- Če smo v koraku prebrali število `n`, potem puščico označimo z `?n`.\n",
    "\n",
    "Sedaj je potrebno tudi stara pravila dopolniti z označenimi puščicami. Da se število pravil ne potroji, lahko uporabljate spremenljivke za tip oznake na puščici.\n",
    "\n",
    "## Naloga 2\n",
    "\n",
    "Napišite program, ki prebere dve števili in izpiše njuno vsoto. Narišite drevo vseh možnih izvajanj programa.\n",
    "\n",
    "## Naloga 3\n",
    "\n",
    "Sedaj, ko imamo na voljo razširitev Lambda računa s pomnilnikom, lahko v Lambda računu modeliramo IMP. Napišite prevajalnik, ki sprejme program v IMPu in vrne program v Lambda računu.\n",
    "\n",
    "## Naloga 4\n",
    "\n",
    "Lambda račun s pomnilnikom razširite še s hkratnim izvajanjem. Izračun `c1 || c2`, za `c1 : unit` in `c2 : unit`, lahko naredi korak v prvi ali drugi komponenti. Ko izračuna obe komponenti, vrne `unit` (torej je izvajanje zanimivo le v kombinaciji z drugimi učinki).\n",
    "\n",
    "Je naš programski jezik še determinističen? Če ni, napišite program, ki bo imel več možnih rezultatov."
   ]
  }
 ],
 "metadata": {
  "jupytext": {
   "text_representation": {
    "extension": ".md",
    "format_name": "myst",
    "format_version": 0.12,
    "jupytext_version": "1.8.0"
   }
  },
  "kernelspec": {
   "display_name": "OCaml 4.11",
   "language": "OCaml",
   "name": "ocaml-jupyter"
  },
  "language_info": {
   "codemirror_mode": "text/x-ocaml",
   "file_extension": ".ml",
   "mimetype": "text/x-ocaml",
   "name": "OCaml",
   "nbconverter_exporter": null,
   "pygments_lexer": "OCaml",
   "version": "4.14.1"
  },
  "source_map": [
   12,
   16,
   22
  ]
 },
 "nbformat": 4,
 "nbformat_minor": 5
}