{
 "cells": [
  {
   "cell_type": "markdown",
   "id": "ac10db30",
   "metadata": {},
   "source": [
    "# Vaje"
   ]
  },
  {
   "cell_type": "code",
   "execution_count": 1,
   "id": "e3972385",
   "metadata": {
    "tags": [
     "remove-cell",
     "remove-stdout"
    ]
   },
   "outputs": [],
   "source": [
    "(* Ko se v Jupytru prvič požene OCaml, program Findlib izpiše neko sporočilo.\n",
    "   Da se to sporočilo ne bi videlo v zapiskih, je tu ta celica, ki sproži izpis,\n",
    "   vendar ima nastavljeno, da je v zapiskih v celoti skrita. *)"
   ]
  },
  {
   "cell_type": "markdown",
   "id": "316c24da",
   "metadata": {},
   "source": [
    "## Naloga 1\n",
    "\n",
    "Zapišite evaluacijsko drevo za naslednja ukaza v jeziku IMP:\n",
    "\n",
    "  1. `#a := 1; if #a < 2 then #b := 2 * #a else #b := 0`\n",
    "  \n",
    "  2. `#a := 0; while #a < 2 do #a := #a + 1`\n",
    "\n",
    "## Naloga 2\n",
    "\n",
    "Dopolnite operacijsko semantiko jezika IMP z:\n",
    "\n",
    "  1. Logičnima operacijama `&&` in `||`. Primerjajte pravila, kjer izračunamo vrednosti obeh argumentov in t.i. 'short-circuit evaluation', ki vrednost drugega argumenta izračuna zgolj, če je to potrebno.\n",
    "\n",
    "  2. Operacijo CAS (compare and swap), kjer `cas loc n m` preveri, ali ima lokacija `loc` vrednost `n`. V primeru ujemanja vrednost lokacije posodobi na `m`, sicer ne spremeni ničesar.\n",
    "\n",
    "## Naloga 3\n",
    "\n",
    "Zapišite induktivno definicijo seznamov z elementi iz množice A in nato izpeljite pravila za dokaz z indukcijo.\n",
    "\n",
    "V nadaljevanju bomo uporabljali OCaml notacijo za sezname, torej `[]` in `x :: xs` za konstruktorja in `l1 @ l2` za lepljenje seznamov.\n",
    "\n",
    "Definirajte manjkajoče funkcije in z indukcijo pokažite enakosti:\n",
    "\n",
    "  1. `xs @ [] = xs`\n",
    "\n",
    "  2. `reverse (xs @ ys) = reverse ys @ reverse xs`\n",
    "\n",
    "  3. `reverse (reverse xs) = xs`\n",
    "\n",
    "  4. `map f (map g xs) = map (fun x -> f (g x)) xs`\n",
    "\n",
    "  5. `map f (reverse xs) = reverse (map f xs)`\n",
    "\n",
    "## Naloga 4\n",
    "\n",
    "Pokažite, da lahko podmnožico naraščajočih seznamov podamo z induktivno relacijo.\n",
    "\n",
    "## Naloga 5\n",
    "\n",
    "Zapišite induktivno definicijo dvojiških dreves z vrednostmi iz množice A in nato izpeljite pravila za dokaz z indukcijo.\n",
    "\n",
    "Za funkciji\n",
    "\n",
    "```ocaml\n",
    "let rec mirror = function\n",
    "  | Empty -> Empty\n",
    "  | Node (lt, x, rt) -> Node (mirror rt, x, mirror lt)\n",
    "\n",
    "let rec depth = function\n",
    "  | Empty -> 0\n",
    "  | Node (lt, x, rt) -> 1 + (max (depth lt) (depth rt))\n",
    "```\n",
    "\n",
    "pokažite `depth tree = depth (mirror tree)`. Katero lastnost funkcije `max` je  potrebno privzeti?\n",
    "\n",
    "Nato napišite funkciji `tree_map` in `tree_to_list` in dokažite enakost\n",
    "\n",
    "``` tree_to_list (tree_map f tree) = list_map f (tree_to_list tree) ```\n",
    "\n",
    "## Naloga 6\n",
    "\n",
    "Razširite izrek o varnosti za jezik IMP za konstrukciji iz Naloge 1."
   ]
  }
 ],
 "metadata": {
  "jupytext": {
   "text_representation": {
    "extension": ".md",
    "format_name": "myst",
    "format_version": 0.12,
    "jupytext_version": "1.8.0"
   }
  },
  "kernelspec": {
   "display_name": "OCaml 4.11",
   "language": "OCaml",
   "name": "ocaml-jupyter"
  },
  "language_info": {
   "codemirror_mode": "text/x-ocaml",
   "file_extension": ".ml",
   "mimetype": "text/x-ocaml",
   "name": "OCaml",
   "nbconverter_exporter": null,
   "pygments_lexer": "OCaml",
   "version": "4.14.1"
  },
  "source_map": [
   12,
   16,
   22
  ]
 },
 "nbformat": 4,
 "nbformat_minor": 5
}