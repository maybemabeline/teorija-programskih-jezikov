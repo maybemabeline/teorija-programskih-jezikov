{
 "cells": [
  {
   "cell_type": "markdown",
   "id": "2c9bcb7e",
   "metadata": {},
   "source": [
    "# Vaje"
   ]
  },
  {
   "cell_type": "code",
   "execution_count": 1,
   "id": "e3141a15",
   "metadata": {
    "tags": [
     "remove-cell",
     "remove-stdout"
    ]
   },
   "outputs": [],
   "source": [
    "(* Ko se v Jupytru prvič požene OCaml, program Findlib izpiše neko sporočilo.\n",
    "   Da se to sporočilo ne bi videlo v zapiskih, je tu ta celica, ki sproži izpis,\n",
    "   vendar ima nastavljeno, da je v zapiskih v celoti skrita. *)"
   ]
  },
  {
   "cell_type": "markdown",
   "id": "e1a565c6",
   "metadata": {},
   "source": [
    "## Naloga 1\n",
    "\n",
    "Izpeljite in rešite enačbe za izpeljavo tipov naslednjih programov:\n",
    "\n",
    "1. `|- (fun x -> x * x) 14`\n",
    "2. `f : α, v : bool |- if f v then 1 else 0`\n",
    "3. `g : bool -> α |- (fun f -> f (g true)) (fun x -> x + 2)`\n",
    "\n",
    "Preverite, ali vrstni red enačb vpliva na rezultat. Ugotovite kje se pojavi problem pri določanju tipa funkcije `fun f -> f f`.\n",
    "\n",
    "## Naloga 2\n",
    "\n",
    "Algoritem za izpeljavo tipov dopolnite za:\n",
    "\n",
    "1. rekurzijo\n",
    "2. pare\n",
    "3. vsote\n",
    "4. sezname\n",
    "\n",
    "## Naloga 3\n",
    "\n",
    "Izpeljite tip funkcije `map`. Napišite še kakšen program, ki uporablja konstrukte iz naloge 2 in mu določite tip."
   ]
  }
 ],
 "metadata": {
  "jupytext": {
   "text_representation": {
    "extension": ".md",
    "format_name": "myst",
    "format_version": 0.12,
    "jupytext_version": "1.8.0"
   }
  },
  "kernelspec": {
   "display_name": "OCaml 4.11",
   "language": "OCaml",
   "name": "ocaml-jupyter"
  },
  "language_info": {
   "codemirror_mode": "text/x-ocaml",
   "file_extension": ".ml",
   "mimetype": "text/x-ocaml",
   "name": "OCaml",
   "nbconverter_exporter": null,
   "pygments_lexer": "OCaml",
   "version": "4.14.1"
  },
  "source_map": [
   12,
   16,
   22
  ]
 },
 "nbformat": 4,
 "nbformat_minor": 5
}