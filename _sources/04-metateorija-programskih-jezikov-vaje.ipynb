{
 "cells": [
  {
   "cell_type": "markdown",
   "id": "2413c877",
   "metadata": {},
   "source": [
    "# Vaje"
   ]
  },
  {
   "cell_type": "code",
   "execution_count": 1,
   "id": "fc423eb8",
   "metadata": {
    "tags": [
     "remove-cell",
     "remove-stdout"
    ]
   },
   "outputs": [],
   "source": [
    "(* Ko se v Jupytru prvič požene OCaml, program Findlib izpiše neko sporočilo.\n",
    "   Da se to sporočilo ne bi videlo v zapiskih, je tu ta celica, ki sproži izpis,\n",
    "   vendar ima nastavljeno, da je v zapiskih v celoti skrita. *)"
   ]
  },
  {
   "cell_type": "markdown",
   "id": "a0016dfe",
   "metadata": {},
   "source": [
    "## Vaje\n",
    "\n",
    "## Naloga 1\n",
    "\n",
    "Preverite primere, izpuščene v zgornjih dokazih.\n",
    "\n",
    "## Naloga 2\n",
    "\n",
    "Vpeljite relacijo $\\leadsto^*$, ki je tranzitivna in refleksivna ovojnica relacije malih korakov $\\leadsto$. Razložite, kakšen je njen intuitivni pomen ter pokažite, da je res tranzitivna.\n",
    "\n",
    "## Naloga 3\n",
    "\n",
    "Definirajte _vrednosti_ `v` za posamezne družine izrazov.\n",
    "\n",
    "Pokažite pomožno lemo oblike:\n",
    "\n",
    "    s , c1 ~~> s' , c1' \n",
    "    => \n",
    "    s' , c1' --> s'' \n",
    "    => \n",
    "    s , c1 --> s''\n",
    "\n",
    "Pokažite ujemanje `~~*>` in `-->` (semantika velikih korakov):\n",
    "\n",
    "    s , e --> s', v \n",
    "    <=> \n",
    "    s , e ~~*> s' , v\n",
    "\n",
    "Ujemanje je potrebno pokazati za vsako družino izrazov."
   ]
  }
 ],
 "metadata": {
  "jupytext": {
   "text_representation": {
    "extension": ".md",
    "format_name": "myst",
    "format_version": 0.12,
    "jupytext_version": "1.8.0"
   }
  },
  "kernelspec": {
   "display_name": "OCaml 4.11",
   "language": "OCaml",
   "name": "ocaml-jupyter"
  },
  "language_info": {
   "codemirror_mode": "text/x-ocaml",
   "file_extension": ".ml",
   "mimetype": "text/x-ocaml",
   "name": "OCaml",
   "nbconverter_exporter": null,
   "pygments_lexer": "OCaml",
   "version": "4.14.1"
  },
  "source_map": [
   12,
   16,
   22
  ]
 },
 "nbformat": 4,
 "nbformat_minor": 5
}