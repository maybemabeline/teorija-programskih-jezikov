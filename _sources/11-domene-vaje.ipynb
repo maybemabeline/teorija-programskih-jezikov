{
 "cells": [
  {
   "cell_type": "markdown",
   "id": "bc92cc75",
   "metadata": {},
   "source": [
    "# Vaje"
   ]
  },
  {
   "cell_type": "code",
   "execution_count": 1,
   "id": "c68e1e66",
   "metadata": {
    "tags": [
     "remove-cell",
     "remove-stdout"
    ]
   },
   "outputs": [],
   "source": [
    "(* Ko se v Jupytru prvič požene OCaml, program Findlib izpiše neko sporočilo.\n",
    "   Da se to sporočilo ne bi videlo v zapiskih, je tu ta celica, ki sproži izpis,\n",
    "   vendar ima nastavljeno, da je v zapiskih v celoti skrita. *)"
   ]
  },
  {
   "cell_type": "markdown",
   "id": "125c9c53",
   "metadata": {},
   "source": [
    "## Naloga 1\n",
    "\n",
    "Preverite, ali so sledeče konstrukcije domene ($\\leq$ je standardna ureditev na $\\mathbb{R}$).\n",
    "\n",
    "1. $((0,1), \\leq)$\n",
    "2. $([0,1], \\leq)$\n",
    "3. $([0,1) \\cup (2,3], \\leq)$\n",
    "4. $([0,1) \\cup [2,3], \\leq)$\n",
    "\n",
    "## Naloga 2\n",
    "\n",
    "Naj bo $\\leq$ standardna ureditev na $\\mathbb{N}$. Definirajte relacijo $\\lessdot$ na množici $\\mathbb{N} \\to \\mathbb{N}$ kot\n",
    "\n",
    "$$f \\lessdot g  \\iff \\forall n \\in \\mathbb{N}. f(n) \\leq g(n).$$\n",
    "\n",
    "Je $(\\mathbb{N} \\to \\mathbb{N}, \\lessdot)$ delno urejena množica? Je domena?\n",
    "\n",
    "## Naloga 3\n",
    "\n",
    "Naj bo $P$ končna delno urejena množica z najmanjšim elementom. Naj bo $D$ poljubna domena.\n",
    "\n",
    "1. Pokažite, da je $P$ domena.\n",
    "2. Dokažite, da je funkcija iz $P \\to D$ zvezna natanko tedaj ko je monotona\n",
    "3. Ali to velja tudi za $\\mathbb{N}$? Kaj pa za $\\mathbb{N}_\\bot$ s plosko urejenostjo?\n",
    "\n",
    "## Naloga 4\n",
    "\n",
    "Premislite, kako bi za podani domeni $(D_1, \\leq_1)$ in $(D_1, \\leq_2)$ skonstruirali domeno za produkt $D_1 \\times D_2$ in vsoto $D_1 + D_2$. Premislite katere od možnosti bi bile primerne za modeliranje parov in vsot v neučakani oz. leni semantiki.\n",
    "\n",
    "## Naloga 5\n",
    "\n",
    "Operator $+_{\\bot}$ definiramo kot:\n",
    "\n",
    "$$ x +_{\\bot} y = \\begin{cases}\n",
    "  \\bot & x = \\bot \\vee  y=\\bot \\\\\n",
    "  x + y & \\text{sicer}\n",
    "\\end{cases}$$\n",
    "\n",
    "Izračunajte najmanjši fiksni točki funkcij $F, G: [\\mathbb{N}_\\bot \\to \\mathbb{N}_\\bot] \\to [\\mathbb{N}_\\bot \\to \\mathbb{N}_\\bot]$\n",
    "\n",
    "$$ F(f)(n) = \\begin{cases}\n",
    "  \\bot & n = \\bot \\\\\n",
    "  0 & n = 0 \\\\\n",
    "  (2n-1) +_\\bot f(n) & n > 0\n",
    "\\end{cases} $$\n",
    "\n",
    "$$ G(f)(n) = \\begin{cases}\n",
    "  \\bot & n = \\bot \\\\\n",
    "  0 & n = 0 \\\\\n",
    "  (2n-1) +_\\bot f(n-1) & n > 0\n",
    "\\end{cases} $$\n",
    "\n",
    "## Naloga 6\n",
    "\n",
    "Naj bo $\\mathbb{T} = \\{tt, ff\\}$ in $F : [\\mathbb{N}_\\bot \\to \\mathbb{T}_\\bot] \\to [\\mathbb{N}_\\bot \\to \\mathbb{T}_\\bot]$,\n",
    "\n",
    "$$ F(f)(n) = \\begin{cases}\n",
    "  \\bot & n = \\bot \\\\\n",
    "  f(n+2) & n = 0 \\\\\n",
    "  tt & n = 1 \\\\\n",
    "  f(n-2) & n \\geq 0\n",
    "\\end{cases} $$\n",
    "\n",
    "Izračunajte najmanjšo fiksno točko $F$.\n",
    "\n",
    "## Naloga 7\n",
    "\n",
    "Naj bo $D$ domena. Predpostavite, da za zaporedje $(x_{i,j})_{i,j\\geq0}$ velja $x_{i,j} \\leq x_{i', j'}$ kadar $i \\leq i'$ in $j \\leq j'$.\n",
    "\n",
    "Pokažite, da velja\n",
    "$$ \\bigvee_i (\\bigvee_j x_{i,j}) = \\bigvee_i x_{i,i} $$"
   ]
  }
 ],
 "metadata": {
  "jupytext": {
   "text_representation": {
    "extension": ".md",
    "format_name": "myst",
    "format_version": 0.12,
    "jupytext_version": "1.8.0"
   }
  },
  "kernelspec": {
   "display_name": "OCaml 4.11",
   "language": "OCaml",
   "name": "ocaml-jupyter"
  },
  "language_info": {
   "codemirror_mode": "text/x-ocaml",
   "file_extension": ".ml",
   "mimetype": "text/x-ocaml",
   "name": "OCaml",
   "nbconverter_exporter": null,
   "pygments_lexer": "OCaml",
   "version": "4.14.1"
  },
  "source_map": [
   12,
   16,
   22
  ]
 },
 "nbformat": 4,
 "nbformat_minor": 5
}