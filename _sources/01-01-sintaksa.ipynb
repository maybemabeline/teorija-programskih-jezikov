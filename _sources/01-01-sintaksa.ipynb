{
 "cells": [
  {
   "cell_type": "markdown",
   "id": "3b434e08",
   "metadata": {},
   "source": [
    "# Sintaksa jezika\n",
    "\n",
    "Prva stvar, ki jo moramo podati v definiciji programskega jezika, je njegova sintaksa - torej zapis vseh izrazov, ki jih jezik omogoča. Ločujemo med _konkretno sintakso_, ki definira zaporedja znakov, ki predstavljajo veljavne programe, ter _abstraktno sintakso_, ki možne izraze jezika predstavi z drevesno strukturo. Na primer, `1 + (2 * 3)` in `1+2*3` sta različna niza konkretne sintakse, ki oba predstavljata izraz abstraktne sintakse, predstavljen z drevesom\n",
    "\n",
    "```text\n",
    "      +\n",
    "     / \\\n",
    "    1   *\n",
    "       / \\\n",
    "      2   3\n",
    "```\n",
    "\n",
    "ki ga na krajše pišemo kar kot $1 + (2 * 3)$, pri čemer matematična pisava nakazuje, da nas podrobnosti, kot so presledki, ne zanimajo.\n",
    "\n",
    "## Konkretna sintaksa\n",
    "\n",
    "Konkretno sintakso običajno podajamo v [Backus-Naurovi obliki (BNF)](https://en.m.wikipedia.org/wiki/Backus–Naur_form). Ker mora konkretno sintakso razumeti tudi računalnik, v njej upoštevamo tudi presledke, zamike, oklepaje, komentarje, …  Ta je sestavljena iz pravil, ki povedo, kakšne vrste simbolov lahko nastopajo v jeziku. Pravilo, ki podaja sintakso določenega simbola je oblike\n",
    "\n",
    "```text\n",
    "<simbol> ::= moznost1 | moznost2 | ...\n",
    "```\n",
    "\n",
    "kjer je vsaka izmed možnosti sestavljena iz enega ali več nizov ali drugih simbolov. Na primer, simbol za števko `<digit>` je lahko kateri koli izmed nizov `\"0\"`, `\"1\"`, …, `\"9\"`, številka pa je sestavljena iz ene ali več števk ter morebitnega predznaka:\n",
    "\n",
    "```text\n",
    "<digit> ::= \"0\" | \"1\" | ... | \"9\"\n",
    "<digits> ::= \"\" | <digit> <digits>\n",
    "<integer> ::= <digits> | \"-\" <digits>\n",
    "```\n",
    "\n",
    "Za programski jezik IMP bo konkretna sintaksa\n",
    "\n",
    "```text\n",
    "<space> ::= \" \" | \"\\n\" | \"\\t\" | \"\\r\"\n",
    "<spaces> ::= \"\" | <spaces1>\n",
    "<spaces1> ::= <space> <spaces>\n",
    "\n",
    "<alpha> ::= \"a\" | \"b\" | ... | \"z\"\n",
    "<alphanum> ::= <alpha> | <digit>\n",
    "<alphanums> ::= \"\" | <alphanum> <alphanums>\n",
    "<ident> ::= <alpha> <alhpanums>\n",
    "<location> ::= \"#\" <ident>\n",
    "\n",
    "<exp> ::= <atomic_exp> <spaces> \"+\" <spaces> <atomic_exp>\n",
    "        |  <atomic_exp> <spaces> \"-\" <spaces> <atomic_exp>\n",
    "        |  <atomic_exp> <spaces> \"*\" <spaces> <atomic_exp>\n",
    "        |  <atomic_exp>\n",
    "<atomic_exp> ::= <location>\n",
    "              |  <integer>\n",
    "              |  \"(\" <spaces> <exp> <spaces> \")\"\n",
    "<bexp> ::= \"TRUE\"\n",
    "        |  \"FALSE\"\n",
    "        |  <exp> <spaces> \"=\" <spaces> <exp>\n",
    "        |  <exp> <spaces> \"<\" <spaces> <exp>\n",
    "        |  <exp> <spaces> \">\" <spaces> <exp>\n",
    "<cmd> ::= \"IF\" <spaces1> <bexp> <spaces1> \"THEN\" <spaces1> <cmd> <spaces1> \"ELSE\" <spaces1> <cmd>\n",
    "        |  \"WHILE\" <spaces1> <bexp> <spaces1> \"DO\" <spaces1> <cmd>\n",
    "        |  <atomic_cmd> <spaces> \";\" <spaces> <cmd>\n",
    "<atomic_cmd> ::= <location> <spaces> \":=\" <spaces> <exp>\n",
    "              |  \"SKIP\"\n",
    "              |  \"(\" <spaces> <cmd> <spaces> \")\"\n",
    "```\n",
    "\n",
    "Kaj predstavljajo zgoraj omenjeni simboli, si bomo ogledali pri abstraktni sintaksi jezika IMP, za idejo pa lahko vseeno podamo primer veljavnega programa v konkretni sintaksi:\n",
    "\n",
    "```text\n",
    "#fact := 1;\n",
    "WHILE #m > 0 DO (\n",
    "    #fact := #fact * #m;\n",
    "    #m := #m - 1\n",
    ")\n",
    "```\n",
    "\n",
    "Videti je, da program v pomnilniško lokacijo `#fact` shrani fakulteto števila, shranjenega v `#m`, vendar tega ne vemo, dokler ne podamo semantike jezika.\n",
    "\n",
    "## Abstraktna sintaksa\n",
    "\n",
    "Kot smo že videli, v abstraktni sintaksi možne izraze predstavimo z drevesi, katerih otroci predstavljajo njihove podizraze. Zaradi krajšega zapisa pa tudi abstraktno sintakso podamo v zapisu, podobnemu BNF, pri čemer nas podrobnosti, kot so oklepaji ali točen zapis spremenljivk in števil ne zanima.  Tako bomo predpostavili, da $n$ predstavlja poljubno celo število, $\\ell$ pa poljubno pomnilniško lokacijo.\n",
    "\n",
    "Kot smo že omenili, je jezik IMP sestavljen iz aritmetičnih izrazov, ki jih bomo označevali s spremenljivko $e$, logičnih izrazov, ki jih bomo označevali z $b$, ter ukazov, ki jih bomo označevali s $c$.\n",
    "\n",
    "$$\n",
    "  \\begin{aligned}\n",
    "    \\text{aritmetični izraz } e &::=\n",
    "      \\ell \\mid\n",
    "      \\intsym{n} \\mid\n",
    "      e_1 + e_2 \\mid\n",
    "      e_1 - e_2 \\mid\n",
    "      e_1 * e_2 \\\\\n",
    "    \\text{logični izraz } b &::=\n",
    "      \\true \\mid\n",
    "      \\false \\mid\n",
    "      e_1 = e_2 \\mid\n",
    "      e_1 < e_2 \\mid\n",
    "      e_1 > e_2 \\\\\n",
    "    \\text{ukaz } c &::=\n",
    "      \\ifthenelse{b}{c_1}{c_2} \\mid\n",
    "      \\whiledo{b}{c} \\mid\n",
    "      c_1 ; c_2 \\mid\n",
    "      \\ell := e \\mid\n",
    "      \\skip\n",
    "  \\end{aligned}\n",
    "$$\n",
    "\n",
    "Oglejmo si vse veljavne dele jezika, pri čemer bomo za vsakega neformalno povedali, kaj predstavlja. Aritmetični izrazi so sestavljeni iz branja vrednosti pomnilniških lokacij, celoštevilskih konstant (ki jih podčrtamo, da jih ločimo od celih števil) ter aritmetičnih operacij, logični izrazi pa so sestavljeni iz logičnih konstant ter primerjav. Ukazi so bolj zanimivi:\n",
    "\n",
    "- pogojni ukaz, ki izvede $c_1$, kadar $b$ predstavlja resnično logično vrednost, oziroma $c_2$, kadar $b$ predstavlja neresnično logično vrednost;\n",
    "- zanka `while` izvaja ukaz $c$, dokler $b$ predstavlja resnično logično vrednost;\n",
    "- zaporedno izvajanje najprej izvede $c_1$ - ko (če) se ta konča, izvede še $c_2$;\n",
    "- prirejanje izračuna aritmetični izraz $e$ ter njegovo vrednost zapiše v pomnilniško lokacijo $\\ell$;\n",
    "- zadnji ukaz ne naredi ničesar, uporabimo pa ga na primer takrat, kadar v pogojnem stavku želimo nekaj storiti le v eni izmed vej.\n",
    "\n",
    "Zgornji program bi v abstraktni sintaksi lahko predstavili z ukazom\n",
    "\n",
    "$$\n",
    "  \\begin{aligned}\n",
    "    &\\mathsf{fact} := \\intsym{1}; \\\\\n",
    "    &\\whiledo{\\mathsf{m} > \\intsym{0}}{} \\\\\n",
    "    &\\quad \\mathsf{fact} := \\mathsf{fact} * \\mathsf{m}; \\\\\n",
    "    &\\quad \\mathsf{m} := \\mathsf{m} - \\intsym{1}\n",
    "  \\end{aligned}\n",
    "$$\n",
    "\n",
    "## Implementacija\n",
    "\n",
    "Sintakso, ki je sestavljena iz treh vrst izrazov, bomo predstavili s tremi induktivnimi tipi. Pomnilniške lokacije bomo predstavili kar z nizi, vendar jih bomo zaradi lažjega razločevanja ovili s konstruktorjem."
   ]
  },
  {
   "cell_type": "code",
   "execution_count": 1,
   "id": "44f35444",
   "metadata": {
    "tags": [
     "remove-output"
    ]
   },
   "outputs": [
    {
     "data": {
      "text/plain": [
       "type location = Location of string\n"
      ]
     },
     "execution_count": 1,
     "metadata": {},
     "output_type": "execute_result"
    },
    {
     "data": {
      "text/plain": [
       "type exp =\n",
       "    Lookup of location\n",
       "  | Int of int\n",
       "  | Plus of exp * exp\n",
       "  | Minus of exp * exp\n",
       "  | Times of exp * exp\n"
      ]
     },
     "execution_count": 1,
     "metadata": {},
     "output_type": "execute_result"
    },
    {
     "data": {
      "text/plain": [
       "type bexp =\n",
       "    Bool of bool\n",
       "  | Equal of exp * exp\n",
       "  | Less of exp * exp\n",
       "  | Greater of exp * exp\n"
      ]
     },
     "execution_count": 1,
     "metadata": {},
     "output_type": "execute_result"
    },
    {
     "data": {
      "text/plain": [
       "type cmd =\n",
       "    IfThenElse of bexp * cmd * cmd\n",
       "  | WhileDo of bexp * cmd\n",
       "  | Seq of cmd * cmd\n",
       "  | Assign of location * exp\n",
       "  | Skip\n"
      ]
     },
     "execution_count": 1,
     "metadata": {},
     "output_type": "execute_result"
    }
   ],
   "source": [
    "type location = Location of string\n",
    "\n",
    "type exp =\n",
    "  | Lookup of location\n",
    "  | Int of int\n",
    "  | Plus of exp * exp\n",
    "  | Minus of exp * exp\n",
    "  | Times of exp * exp\n",
    "\n",
    "type bexp =\n",
    "  | Bool of bool\n",
    "  | Equal of exp * exp\n",
    "  | Less of exp * exp\n",
    "  | Greater of exp * exp\n",
    "\n",
    "type cmd =\n",
    "  | IfThenElse of bexp * cmd * cmd\n",
    "  | WhileDo of bexp * cmd\n",
    "  | Seq of cmd * cmd\n",
    "  | Assign of location * exp\n",
    "  | Skip"
   ]
  },
  {
   "cell_type": "markdown",
   "id": "d82ce70a",
   "metadata": {},
   "source": [
    "Na primer, aritmetična izraza $e_1 = (\\intsym{6} * \\intsym{7})$ in $e_2 = (\\mathsf{m} - \\intsym{1})$ bi predstavili z"
   ]
  },
  {
   "cell_type": "code",
   "execution_count": 2,
   "id": "918403c1",
   "metadata": {},
   "outputs": [
    {
     "data": {
      "text/plain": [
       "val exp1 : exp = Times (Int 6, Int 7)\n"
      ]
     },
     "execution_count": 2,
     "metadata": {},
     "output_type": "execute_result"
    },
    {
     "data": {
      "text/plain": [
       "val exp2 : exp = Minus (Lookup (Location \"m\"), Int 1)\n"
      ]
     },
     "execution_count": 2,
     "metadata": {},
     "output_type": "execute_result"
    }
   ],
   "source": [
    "let exp1 = Times (Int 6, Int 7)\n",
    "let exp2 = Minus (Lookup (Location \"m\"), Int 1)"
   ]
  },
  {
   "cell_type": "markdown",
   "id": "112a4ea1",
   "metadata": {},
   "source": [
    "logični izraz $b = (\\mathsf{m} > \\intsym{0})$ z"
   ]
  },
  {
   "cell_type": "code",
   "execution_count": 3,
   "id": "80e48109",
   "metadata": {},
   "outputs": [
    {
     "data": {
      "text/plain": [
       "val bexp : bexp = Greater (Lookup (Location \"m\"), Int 0)\n"
      ]
     },
     "execution_count": 3,
     "metadata": {},
     "output_type": "execute_result"
    }
   ],
   "source": [
    "let bexp = Greater (Lookup (Location \"m\"), Int 0)"
   ]
  },
  {
   "cell_type": "markdown",
   "id": "996000a3",
   "metadata": {},
   "source": [
    "ukaza $c_1 = (\\mathsf{m} := e_2)$ in $c_2 = (\\whiledo{b}{c_1})$ pa z"
   ]
  },
  {
   "cell_type": "code",
   "execution_count": 4,
   "id": "ac056c9c",
   "metadata": {},
   "outputs": [
    {
     "data": {
      "text/plain": [
       "val cmd1 : cmd = Assign (Location \"m\", Minus (Lookup (Location \"m\"), Int 1))\n"
      ]
     },
     "execution_count": 4,
     "metadata": {},
     "output_type": "execute_result"
    },
    {
     "data": {
      "text/plain": [
       "val cmd2 : cmd =\n",
       "  WhileDo (Greater (Lookup (Location \"m\"), Int 0),\n",
       "   Assign (Location \"m\", Minus (Lookup (Location \"m\"), Int 1)))\n"
      ]
     },
     "execution_count": 4,
     "metadata": {},
     "output_type": "execute_result"
    }
   ],
   "source": [
    "let cmd1 = Assign (Location \"m\", exp2)\n",
    "let cmd2 = WhileDo (bexp, cmd1)"
   ]
  },
  {
   "cell_type": "markdown",
   "id": "860ac374",
   "metadata": {},
   "source": [
    "## Vaje\n",
    "\n",
    "### Naloga 1\n",
    "\n",
    "Napišite sintaktična drevesa, ki ustrezajo programom:\n",
    "\n",
    "```text\n",
    "#a := 2 + #b\n",
    "```\n",
    "\n",
    "```text\n",
    "IF #x = 2 THEN \n",
    "  #x := 3\n",
    "ELSE\n",
    "  SKIP\n",
    "```\n",
    "\n",
    "```text\n",
    "WHILE #z > 0 DO \n",
    "  #z := #z - 1;\n",
    "  #w := #z + #w\n",
    "```\n",
    "\n",
    "```text\n",
    "(WHILE #z > 0 DO #z := #z - 1);\n",
    "#w := #z + #w\n",
    "```\n",
    "\n",
    "### Naloga 2\n",
    "\n",
    "Programe najprej napišite v OCamlu, nato pa jih prevedite v programski jezik IMP.\n",
    "\n",
    "1. Napišite program, ki sešteje vsa naravna števila manjša od `n`.\n",
    "\n",
    "2. Napišite program, ki preveri ali je podano število praštevilo.\n",
    "\n",
    "### Naloga 3\n",
    "\n",
    "Razmislite, kako bi dopolnili konkretno in abstraktno sintakso jezika IMP za:\n",
    "\n",
    "1. logična veznika `&&` in `||`,\n",
    "\n",
    "2. ukaz `SWITCH`, ki zamenja vrednosti dveh lokacij,\n",
    "\n",
    "3. ukaz `FAIL`, ki prekine izvajanje programa."
   ]
  }
 ],
 "metadata": {
  "jupytext": {
   "text_representation": {
    "extension": ".md",
    "format_name": "myst",
    "format_version": 0.12,
    "jupytext_version": "1.8.0"
   }
  },
  "kernelspec": {
   "display_name": "OCaml 4.11",
   "language": "OCaml",
   "name": "ocaml-jupyter"
  },
  "language_info": {
   "codemirror_mode": "text/x-ocaml",
   "file_extension": ".ml",
   "mimetype": "text/x-ocaml",
   "name": "OCaml",
   "nbconverter_exporter": null,
   "pygments_lexer": "OCaml",
   "version": "4.14.1"
  },
  "source_map": [
   12,
   141,
   165,
   169,
   172,
   176,
   178,
   182,
   185
  ]
 },
 "nbformat": 4,
 "nbformat_minor": 5
}