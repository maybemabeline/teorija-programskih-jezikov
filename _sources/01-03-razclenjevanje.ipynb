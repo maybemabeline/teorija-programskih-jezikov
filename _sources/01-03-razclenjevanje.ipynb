{
 "cells": [
  {
   "cell_type": "markdown",
   "id": "1b9f540d",
   "metadata": {},
   "source": [
    "# Razčlenjevanje\n",
    "\n",
    "Razčlenjevalnikov običajno ne pišemo direktno, temveč se poslužimo posebnih orodij, ki sprejmejo definicijo jezika v zapisu podobnem BNF, ter iz nje samodejno ustvarijo program. V primeru OCamla sta taka programa [`ocamlyacc`](https://v2.ocaml.org/manual/lexyacc.html) in njegova naprednejša različica [Menhir](http://gallium.inria.fr/~fpottier/menhir/). Prav tako je sestavni del razčlenjevalnika _lekser_, ki zaporedje znakov najprej pretvori v zaporedje _leksemov_, kjer so zaporedne števke že združene v števila, ključne besede nadomeščene s posebnimi simboli, presledki in komentarji pa odstranjeni.\n",
    "\n",
    "Mi pa bomo zato, da bomo ostali znotraj enega orodja in zraven ponovili še malo funkcijskega programiranja, ubrali bolj neposredno pot in uporabili [kombinatorje razčlenjevalnikov](https://en.wikipedia.org/wiki/Parser_combinator). Vsak razčlenjevalnik bo sestavljen iz manjših razčlenjevalnikov, od katerih bo vsak predelal del besedila. Poglejmo najprej, kakšne oblike bodo.\n",
    "\n",
    "## Tip razčlenjevalnikov `'a parser`\n",
    "\n",
    "Recimo, da želimo razčlenjevalnik za cela števila. Začnimo z željo po funkciji `string -> int`, ki vzame vhodni niz ter vrne prebrano število, na primer iz niza `\"42\"` dobimo število `42`.\n",
    "\n",
    "Ker vsak niz ne bo predstavljal števila, moramo najprej popraviti ti rezultata, da dobimo `string -> int option`. Tako bomo iz niza `\"42\"` dobili `Some 42`, iz niza `\"abc\"` pa `None`.\n",
    "\n",
    "Razčlenjevalnike bomo združevali in vsak ne bo prebral celotnega niza, temveč samo njegov začetek, preostanek pa bo predal nadaljnjim razčlenjevalnikom. Zato ne vrnemo samo rezultata, temveč tudi preostali niz, zato je še boljši tip `string -> (int * string) option`. Tako bi razčlenjevalnik pri vhodu `\"42abc\"` vrnil `Some (42, \"abc\")`, pri vhodu `\"42\"` rezultat `Some (42, \"\")`, pri vhodu `\"abc42\"` pa `None`, saj začetek ne predstavlja števila.\n",
    "\n",
    "Niz je veliko enostavneje brati postopoma, če ga poprej pretvorimo v zaporedje znakov. Za pretvorbo uporabljamo funkciji:"
   ]
  },
  {
   "cell_type": "code",
   "execution_count": 1,
   "id": "e27c0bc1",
   "metadata": {},
   "outputs": [
    {
     "data": {
      "text/plain": [
       "val explode : string -> char list = <fun>\n"
      ]
     },
     "execution_count": 1,
     "metadata": {},
     "output_type": "execute_result"
    },
    {
     "data": {
      "text/plain": [
       "val implode : char list -> string = <fun>\n"
      ]
     },
     "execution_count": 1,
     "metadata": {},
     "output_type": "execute_result"
    }
   ],
   "source": [
    "let explode str = List.init (String.length str) (String.get str)\n",
    "let implode chrs = String.init (List.length chrs) (List.nth chrs)"
   ]
  },
  {
   "cell_type": "code",
   "execution_count": 2,
   "id": "a273b007",
   "metadata": {},
   "outputs": [
    {
     "data": {
      "text/plain": [
       "- : char list = ['a'; 'b'; 'c']\n"
      ]
     },
     "execution_count": 2,
     "metadata": {},
     "output_type": "execute_result"
    }
   ],
   "source": [
    "explode \"abc\""
   ]
  },
  {
   "cell_type": "code",
   "execution_count": 3,
   "id": "b5c0da6f",
   "metadata": {},
   "outputs": [
    {
     "data": {
      "text/plain": [
       "- : string = \"TPJ\"\n"
      ]
     },
     "execution_count": 3,
     "metadata": {},
     "output_type": "execute_result"
    }
   ],
   "source": [
    "implode ['T'; 'P'; 'J']"
   ]
  },
  {
   "cell_type": "markdown",
   "id": "cd456193",
   "metadata": {},
   "source": [
    "Tudi tip razčlenjevalnikov spremenimo v `char list -> (int * char list) option`. Ker seveda ne bomo brali samo celih števil, celoten tip razčlenjevalnikov parametriziramo glede na tip prebranih vrednosti:"
   ]
  },
  {
   "cell_type": "code",
   "execution_count": 4,
   "id": "c1db45e7",
   "metadata": {},
   "outputs": [
    {
     "data": {
      "text/plain": [
       "type 'a parser = char list -> ('a * char list) option\n"
      ]
     },
     "execution_count": 4,
     "metadata": {},
     "output_type": "execute_result"
    }
   ],
   "source": [
    "type 'a parser = char list -> ('a * char list) option"
   ]
  },
  {
   "cell_type": "markdown",
   "id": "37b0181b",
   "metadata": {},
   "source": [
    "Zgoraj opisani razčlenjevalnik bi tako lahko definirali kot:"
   ]
  },
  {
   "cell_type": "code",
   "execution_count": 5,
   "id": "9774a93c",
   "metadata": {},
   "outputs": [
    {
     "data": {
      "text/plain": [
       "val parse_int : int parser = <fun>\n"
      ]
     },
     "execution_count": 5,
     "metadata": {},
     "output_type": "execute_result"
    }
   ],
   "source": [
    "let parse_int : int parser =\n",
    "  fun chrs ->\n",
    "  let rec take_initial_digits =\n",
    "    function\n",
    "    | chr :: chrs when String.contains \"0123456789\" chr ->\n",
    "        let digits, rest = take_initial_digits chrs in\n",
    "        (chr :: digits, rest)\n",
    "    | chrs -> ([], chrs)\n",
    "  in\n",
    "  match take_initial_digits chrs with\n",
    "  | ([], chrs) -> None\n",
    "  | (digits, chrs) ->\n",
    "      Some (int_of_string (implode digits), chrs)"
   ]
  },
  {
   "cell_type": "code",
   "execution_count": 6,
   "id": "4f00ad01",
   "metadata": {},
   "outputs": [
    {
     "data": {
      "text/plain": [
       "- : (int * char list) option = Some (42, ['a'; 'b'; 'c'])\n"
      ]
     },
     "execution_count": 6,
     "metadata": {},
     "output_type": "execute_result"
    }
   ],
   "source": [
    "parse_int (explode \"42abc\")"
   ]
  },
  {
   "cell_type": "code",
   "execution_count": 7,
   "id": "7fbc8f09",
   "metadata": {},
   "outputs": [
    {
     "data": {
      "text/plain": [
       "- : (int * char list) option = Some (42, [])\n"
      ]
     },
     "execution_count": 7,
     "metadata": {},
     "output_type": "execute_result"
    }
   ],
   "source": [
    "parse_int (explode \"42\")"
   ]
  },
  {
   "cell_type": "code",
   "execution_count": 8,
   "id": "c95dcf16",
   "metadata": {},
   "outputs": [
    {
     "data": {
      "text/plain": [
       "- : (int * char list) option = None\n"
      ]
     },
     "execution_count": 8,
     "metadata": {},
     "output_type": "execute_result"
    }
   ],
   "source": [
    "parse_int (explode \"abc42\")"
   ]
  },
  {
   "cell_type": "markdown",
   "id": "b28d1be9",
   "metadata": {},
   "source": [
    "Pri definiciji smo ročno dopisali tip `int parser`, saj bi nam OCaml sicer prikazoval ekvivalenten, vendar manj pregleden tip `char list -> (int * char list) option`. Za preglednejše testiranje si napišimo pomožno funkcijo `($$$) : 'a parser -> string -> ('a * string) option`, ki samodejno poskrbi za pretvorbo med nizi in zaporedji znakov."
   ]
  },
  {
   "cell_type": "code",
   "execution_count": 9,
   "id": "d352542e",
   "metadata": {},
   "outputs": [
    {
     "data": {
      "text/plain": [
       "val ( $$$ ) : 'a parser -> string -> ('a * string) option = <fun>\n"
      ]
     },
     "execution_count": 9,
     "metadata": {},
     "output_type": "execute_result"
    }
   ],
   "source": [
    "let ( $$$ ) (parser : 'a parser) str =\n",
    "  match parser (explode str) with\n",
    "  | None -> None\n",
    "  | Some (x, rest) -> Some (x, implode rest)"
   ]
  },
  {
   "cell_type": "markdown",
   "id": "dd37545f",
   "metadata": {},
   "source": [
    "Funkciji damo simbolno ime `( $$$ )`, da jo lahko kličemo infiksno kot `parser $$$ niz`."
   ]
  },
  {
   "cell_type": "code",
   "execution_count": 10,
   "id": "da92c263",
   "metadata": {},
   "outputs": [
    {
     "data": {
      "text/plain": [
       "- : (int * string) option = Some (42, \"abc\")\n"
      ]
     },
     "execution_count": 10,
     "metadata": {},
     "output_type": "execute_result"
    }
   ],
   "source": [
    "parse_int $$$ \"42abc\""
   ]
  },
  {
   "cell_type": "markdown",
   "id": "ce56a561",
   "metadata": {},
   "source": [
    "## Osnovni razčlenjevalniki\n",
    "\n",
    "Vse razčlenjevalnike pisati na tak način bi bilo precej nerodno. Raje si bomo definirali nekaj osnovnih, ki jih bomo združevali v večje. Prvi je razčlenjevalnik `fail`, ki vedno zavrne vhod:"
   ]
  },
  {
   "cell_type": "code",
   "execution_count": 11,
   "id": "5c25a17a",
   "metadata": {},
   "outputs": [
    {
     "data": {
      "text/plain": [
       "val fail : 'a parser = <fun>\n"
      ]
     },
     "execution_count": 11,
     "metadata": {},
     "output_type": "execute_result"
    }
   ],
   "source": [
    "let fail : 'a parser = fun _chrs -> None"
   ]
  },
  {
   "cell_type": "code",
   "execution_count": 12,
   "id": "be596e17",
   "metadata": {},
   "outputs": [
    {
     "data": {
      "text/plain": [
       "- : ('a * string) option = None\n"
      ]
     },
     "execution_count": 12,
     "metadata": {},
     "output_type": "execute_result"
    }
   ],
   "source": [
    "fail $$$ \"42abc\""
   ]
  },
  {
   "cell_type": "markdown",
   "id": "ac4340f2",
   "metadata": {},
   "source": [
    "Nato imamo funkcijo `return`, ki sprejme vrednost `v` in vrne razčlenjevalnik, ki ne glede na vhod vrne uspešno prebrano vrednost `v`, celoten vhod pa posreduje naprej."
   ]
  },
  {
   "cell_type": "code",
   "execution_count": 13,
   "id": "5036e373",
   "metadata": {},
   "outputs": [
    {
     "data": {
      "text/plain": [
       "val return : 'a -> 'a parser = <fun>\n"
      ]
     },
     "execution_count": 13,
     "metadata": {},
     "output_type": "execute_result"
    }
   ],
   "source": [
    "let return v : 'a parser = fun chrs -> Some (v, chrs)"
   ]
  },
  {
   "cell_type": "code",
   "execution_count": 14,
   "id": "eafe9ae5",
   "metadata": {},
   "outputs": [
    {
     "data": {
      "text/plain": [
       "- : (int * string) option = Some (10, \"42abc\")\n"
      ]
     },
     "execution_count": 14,
     "metadata": {},
     "output_type": "execute_result"
    }
   ],
   "source": [
    "return 10 $$$ \"42abc\""
   ]
  },
  {
   "cell_type": "markdown",
   "id": "f6093733",
   "metadata": {},
   "source": [
    "Prvi razčlenjevalnik, ki bo dejansko upošteval vhod, je `character`, ki prebere prvi znak, kadar obstaja, ostale pa pošlje naprej:"
   ]
  },
  {
   "cell_type": "code",
   "execution_count": 15,
   "id": "1651fd97",
   "metadata": {},
   "outputs": [
    {
     "data": {
      "text/plain": [
       "val character : char parser = <fun>\n"
      ]
     },
     "execution_count": 15,
     "metadata": {},
     "output_type": "execute_result"
    }
   ],
   "source": [
    "let character : char parser = function\n",
    "  | [] -> None\n",
    "  | chr :: chrs -> Some (chr, chrs)"
   ]
  },
  {
   "cell_type": "code",
   "execution_count": 16,
   "id": "d2430e57",
   "metadata": {},
   "outputs": [
    {
     "data": {
      "text/plain": [
       "- : (char * string) option = Some ('4', \"2abc\")\n"
      ]
     },
     "execution_count": 16,
     "metadata": {},
     "output_type": "execute_result"
    }
   ],
   "source": [
    "character $$$ \"42abc\""
   ]
  },
  {
   "cell_type": "code",
   "execution_count": 17,
   "id": "c3f6ebaf",
   "metadata": {},
   "outputs": [
    {
     "data": {
      "text/plain": [
       "- : (char * string) option = None\n"
      ]
     },
     "execution_count": 17,
     "metadata": {},
     "output_type": "execute_result"
    }
   ],
   "source": [
    "character $$$ \"\""
   ]
  },
  {
   "cell_type": "markdown",
   "id": "022fbc06",
   "metadata": {},
   "source": [
    "Nato imamo izbiro, ki najprej poskusi en razčlenjevalnik, če pa temu ne uspe, pa še drugega. Oba razčlenjevalnika morata seveda vračati vrednost enakega tipa."
   ]
  },
  {
   "cell_type": "code",
   "execution_count": 18,
   "id": "aa71a100",
   "metadata": {},
   "outputs": [
    {
     "data": {
      "text/plain": [
       "val ( || ) : 'a parser -> 'a parser -> 'a parser = <fun>\n"
      ]
     },
     "execution_count": 18,
     "metadata": {},
     "output_type": "execute_result"
    }
   ],
   "source": [
    "let ( || ) (parser1 : 'a parser) (parser2 : 'a parser) : 'a parser =\n",
    " fun chrs ->\n",
    "  match parser1 chrs with\n",
    "  | None -> parser2 chrs\n",
    "  | Some (v, chrs') -> Some (v, chrs')"
   ]
  },
  {
   "cell_type": "code",
   "execution_count": 19,
   "id": "4cf27251",
   "metadata": {},
   "outputs": [
    {
     "data": {
      "text/plain": [
       "- : (char * string) option = Some ('4', \"2abc\")\n"
      ]
     },
     "execution_count": 19,
     "metadata": {},
     "output_type": "execute_result"
    }
   ],
   "source": [
    "(fail || character) $$$ \"42abc\""
   ]
  },
  {
   "cell_type": "code",
   "execution_count": 20,
   "id": "5ab165de",
   "metadata": {},
   "outputs": [
    {
     "data": {
      "text/plain": [
       "- : (char * string) option = Some ('X', \"42abc\")\n"
      ]
     },
     "execution_count": 20,
     "metadata": {},
     "output_type": "execute_result"
    }
   ],
   "source": [
    "(return 'X' || character) $$$ \"42abc\""
   ]
  },
  {
   "cell_type": "markdown",
   "id": "543a7e01",
   "metadata": {},
   "source": [
    "Nazadnje moramo znati razčlenjevalnike še združevati, kar storimo s funkcijo `>>=`, ki dva razčlenjevalnika veriži enega za drugim. V večini primerov bo drugi razčlenjevalnik odvisen od vrednosti, ki jo je prebral prvi. Na primer, če bomo najprej prebrali znak za začetek komentarja, bomo preskočili vse do konca vrstice, če pa bomo našli kaj drugega, pa bomo pričakovali veljaven ukaz. Tako je `parser1` razčlenjevalnik, ki vrne vrednost tipa `'a`, med tem ko `parser2` ni razčlenjevalnik, temveč funkcija `'a -> 'b parser`, ki vrne razčlenjevalnik odvisen od prebranega rezultata."
   ]
  },
  {
   "cell_type": "code",
   "execution_count": 21,
   "id": "72062552",
   "metadata": {},
   "outputs": [
    {
     "data": {
      "text/plain": [
       "val ( >>= ) : 'a parser -> ('a -> 'b parser) -> 'b parser = <fun>\n"
      ]
     },
     "execution_count": 21,
     "metadata": {},
     "output_type": "execute_result"
    }
   ],
   "source": [
    "let ( >>= ) (parser1 : 'a parser) (parser2 : 'a -> 'b parser) : 'b parser =\n",
    " fun chrs ->\n",
    "  match parser1 chrs with\n",
    "  | None -> None\n",
    "  | Some (v, chrs') -> parser2 v chrs'"
   ]
  },
  {
   "cell_type": "markdown",
   "id": "5d270442",
   "metadata": {},
   "source": [
    "Veriženje deluje tako, da najprej uporabimo `parser1`. Če že ta zavrne vhod, takoj končamo in vrnemo `None`. V primeru, pa da dobimo neko vrednost `v`, jo skupaj s preostankom znakov podamo funkciji `parser2`, ki potem uspešno ali neuspešno vrne končni rezultat.\n",
    "\n",
    "Na primer, spodnja kombinacija najprej prebere katerikoli znak, nato pa ta znak poda funkciji, ki ne glede na preostanek, ki sledi, vedno vrne niz, sestavljen iz 10 kopij tega znaka."
   ]
  },
  {
   "cell_type": "code",
   "execution_count": 22,
   "id": "3f1932d4",
   "metadata": {},
   "outputs": [
    {
     "data": {
      "text/plain": [
       "val vedno_preberi_10_kopij_znaka : char -> string parser = <fun>\n"
      ]
     },
     "execution_count": 22,
     "metadata": {},
     "output_type": "execute_result"
    }
   ],
   "source": [
    "let vedno_preberi_10_kopij_znaka c = return (String.make 10 c)"
   ]
  },
  {
   "cell_type": "code",
   "execution_count": 23,
   "id": "b367fc08",
   "metadata": {},
   "outputs": [
    {
     "data": {
      "text/plain": [
       "- : (string * string) option = Some (\"4444444444\", \"2abc\")\n"
      ]
     },
     "execution_count": 23,
     "metadata": {},
     "output_type": "execute_result"
    }
   ],
   "source": [
    "character >>= vedno_preberi_10_kopij_znaka $$$ \"42abc\""
   ]
  },
  {
   "cell_type": "markdown",
   "id": "65133b92",
   "metadata": {},
   "source": [
    "Isto seveda lahko dosežemo tudi z anonimno funkcijo:"
   ]
  },
  {
   "cell_type": "code",
   "execution_count": 24,
   "id": "e11d04ef",
   "metadata": {},
   "outputs": [
    {
     "data": {
      "text/plain": [
       "- : (string * string) option = Some (\"4444444444\", \"2abc\")\n"
      ]
     },
     "execution_count": 24,
     "metadata": {},
     "output_type": "execute_result"
    }
   ],
   "source": [
    "(character >>= fun c -> return (String.make 10 c)) $$$ \"42abc\""
   ]
  },
  {
   "cell_type": "markdown",
   "id": "479d9552",
   "metadata": {},
   "source": [
    "## Osnovni kombinatorji\n",
    "\n",
    "Izkaže se, da je zgoraj naštetih pet razčlenjevalnikov, torej `fail`, `return`, `character`, `||` in `>>=` dovolj, da izrazimo vse razčlenjevalnike, ki jih potrebujemo. Na primer, če želimo vrniti par zaporedoma prebranih vrednosti, lahko to zapišemo kot:"
   ]
  },
  {
   "cell_type": "code",
   "execution_count": 25,
   "id": "6ca86356",
   "metadata": {},
   "outputs": [
    {
     "data": {
      "text/plain": [
       "val pair : 'a parser -> 'b parser -> ('a * 'b) parser = <fun>\n"
      ]
     },
     "execution_count": 25,
     "metadata": {},
     "output_type": "execute_result"
    }
   ],
   "source": [
    "let pair parser1 parser2 = parser1 >>= fun v1 -> parser2 >>= fun v2 -> return (v1, v2)"
   ]
  },
  {
   "cell_type": "code",
   "execution_count": 26,
   "id": "2c245d98",
   "metadata": {},
   "outputs": [
    {
     "data": {
      "text/plain": [
       "- : ((char * char) * string) option = Some (('4', '2'), \"abc\")\n"
      ]
     },
     "execution_count": 26,
     "metadata": {},
     "output_type": "execute_result"
    }
   ],
   "source": [
    "pair character character $$$ \"42abc\""
   ]
  },
  {
   "cell_type": "markdown",
   "id": "5972394b",
   "metadata": {},
   "source": [
    "Če želimo, da uspešno prebrana vrednost zadošča še kakšnemu predikatu, uporabimo funkcijo `satisfy`, kjer v drugem delu odvisno od pogoja vrednost vrnemo ali zavrnemo:"
   ]
  },
  {
   "cell_type": "code",
   "execution_count": 27,
   "id": "bb4ec51a",
   "metadata": {},
   "outputs": [
    {
     "data": {
      "text/plain": [
       "val satisfy : ('a -> bool) -> 'a parser -> 'a parser = <fun>\n"
      ]
     },
     "execution_count": 27,
     "metadata": {},
     "output_type": "execute_result"
    }
   ],
   "source": [
    "let satisfy cond parser =\n",
    "  parser >>= fun v -> if cond v then return v else fail"
   ]
  },
  {
   "cell_type": "markdown",
   "id": "e269d002",
   "metadata": {},
   "source": [
    "Na primer, spodnji razčlenjevalnik sprejema samo znake `'a'`, `'b'` in `'c'`."
   ]
  },
  {
   "cell_type": "code",
   "execution_count": 28,
   "id": "f8302af8",
   "metadata": {},
   "outputs": [
    {
     "data": {
      "text/plain": [
       "- : (char * string) option = None\n"
      ]
     },
     "execution_count": 28,
     "metadata": {},
     "output_type": "execute_result"
    }
   ],
   "source": [
    "satisfy (String.contains \"abc\") character $$$ \"123\""
   ]
  },
  {
   "cell_type": "code",
   "execution_count": 29,
   "id": "b851b6f4",
   "metadata": {},
   "outputs": [
    {
     "data": {
      "text/plain": [
       "- : (char * string) option = Some ('a', \"23\")\n"
      ]
     },
     "execution_count": 29,
     "metadata": {},
     "output_type": "execute_result"
    }
   ],
   "source": [
    "satisfy (String.contains \"abc\") character $$$ \"a23\""
   ]
  },
  {
   "cell_type": "markdown",
   "id": "a0c316ac",
   "metadata": {},
   "source": [
    "Pri zapisu pogojnih razčlenjevalnikov uporabljamo operacijo `x |> f`, ki funkcijo `f` uporabi na vrednosti `x`. Isti primer kot zgoraj bi napisali na sledeč način, kjer je bolj jasno, da najprej preberemo znak, nato pa preverimo, da je eden od znakov niza `\"abc\"`."
   ]
  },
  {
   "cell_type": "code",
   "execution_count": 30,
   "id": "b585d110",
   "metadata": {},
   "outputs": [
    {
     "data": {
      "text/plain": [
       "- : (char * string) option = Some ('a', \"23\")\n"
      ]
     },
     "execution_count": 30,
     "metadata": {},
     "output_type": "execute_result"
    }
   ],
   "source": [
    "character |> satisfy (String.contains \"abc\") $$$ \"a23\""
   ]
  },
  {
   "cell_type": "markdown",
   "id": "95a5f7e2",
   "metadata": {},
   "source": [
    "Konkretna uporaba kombinatorja `satisfy` je razčlenjevalnik `exactly`, ki sprejme natanko znak `chr`:"
   ]
  },
  {
   "cell_type": "code",
   "execution_count": 31,
   "id": "1e3bb8c4",
   "metadata": {},
   "outputs": [
    {
     "data": {
      "text/plain": [
       "val exactly : char -> char parser = <fun>\n"
      ]
     },
     "execution_count": 31,
     "metadata": {},
     "output_type": "execute_result"
    }
   ],
   "source": [
    "let exactly chr = character |> satisfy (( = ) chr)"
   ]
  },
  {
   "cell_type": "code",
   "execution_count": 32,
   "id": "3c27dc76",
   "metadata": {},
   "outputs": [
    {
     "data": {
      "text/plain": [
       "- : (char * string) option = Some ('a', \"bc\")\n"
      ]
     },
     "execution_count": 32,
     "metadata": {},
     "output_type": "execute_result"
    }
   ],
   "source": [
    "(exactly 'a' || exactly 'b') $$$ \"abc\""
   ]
  },
  {
   "cell_type": "markdown",
   "id": "5c48891f",
   "metadata": {},
   "source": [
    "Enako si lahko definiramo razčlenjevalnike, ki sprejemajo samo števke, črke ali presledke:"
   ]
  },
  {
   "cell_type": "code",
   "execution_count": 33,
   "id": "beaa2674",
   "metadata": {},
   "outputs": [
    {
     "data": {
      "text/plain": [
       "val digit : char parser = <fun>\n"
      ]
     },
     "execution_count": 33,
     "metadata": {},
     "output_type": "execute_result"
    },
    {
     "data": {
      "text/plain": [
       "val alpha : char parser = <fun>\n"
      ]
     },
     "execution_count": 33,
     "metadata": {},
     "output_type": "execute_result"
    },
    {
     "data": {
      "text/plain": [
       "val space : char parser = <fun>\n"
      ]
     },
     "execution_count": 33,
     "metadata": {},
     "output_type": "execute_result"
    }
   ],
   "source": [
    "let digit =\n",
    "  let is_digit = String.contains \"0123456789\" in\n",
    "  character |> satisfy is_digit\n",
    "\n",
    "let alpha =\n",
    "  let is_alpha = String.contains \"abcdefghijklmnopqrstvwuxyz\" in\n",
    "  character |> satisfy is_alpha\n",
    "\n",
    "let space =\n",
    "  let is_space = String.contains \" \\n\\t\\r\" in\n",
    "  character |> satisfy is_space"
   ]
  },
  {
   "cell_type": "markdown",
   "id": "74e4f371",
   "metadata": {},
   "source": [
    "Podoben kombinator je `map`, ki prebere rezultat `v` in ga pretvori s pomočjo funkcije `f`."
   ]
  },
  {
   "cell_type": "code",
   "execution_count": 34,
   "id": "d81ab48d",
   "metadata": {},
   "outputs": [
    {
     "data": {
      "text/plain": [
       "val map : ('a -> 'b) -> 'a parser -> 'b parser = <fun>\n"
      ]
     },
     "execution_count": 34,
     "metadata": {},
     "output_type": "execute_result"
    }
   ],
   "source": [
    "let map f parser = parser >>= fun v -> return (f v)"
   ]
  },
  {
   "cell_type": "code",
   "execution_count": 35,
   "id": "99d5c8a2",
   "metadata": {},
   "outputs": [
    {
     "data": {
      "text/plain": [
       "- : (char * string) option = Some ('A', \"bc\")\n"
      ]
     },
     "execution_count": 35,
     "metadata": {},
     "output_type": "execute_result"
    }
   ],
   "source": [
    "(character |> map Char.uppercase_ascii) $$$ \"abc\""
   ]
  },
  {
   "cell_type": "markdown",
   "id": "3d27c2fe",
   "metadata": {},
   "source": [
    "Poseben primer operacije `>>=` je `>>`, kjer ne upoštevamo vrednosti, ki jo je prebral prvi razčlenjevalnik. Na primer, vemo, da se zanka vedno začne s ključno besedo `while`, ampak sama vrednost `\"while\"` za pomen programa ni pomembna."
   ]
  },
  {
   "cell_type": "code",
   "execution_count": 36,
   "id": "057aa058",
   "metadata": {},
   "outputs": [
    {
     "data": {
      "text/plain": [
       "val ( >> ) : 'a parser -> 'b parser -> 'b parser = <fun>\n"
      ]
     },
     "execution_count": 36,
     "metadata": {},
     "output_type": "execute_result"
    }
   ],
   "source": [
    "let ( >> ) parser1 parser2 = parser1 >>= fun _ -> parser2"
   ]
  },
  {
   "cell_type": "code",
   "execution_count": 37,
   "id": "39f2c5a9",
   "metadata": {},
   "outputs": [
    {
     "data": {
      "text/plain": [
       "- : (char * string) option = Some ('c', \"de\")\n"
      ]
     },
     "execution_count": 37,
     "metadata": {},
     "output_type": "execute_result"
    }
   ],
   "source": [
    "(exactly 'a' >> exactly 'b' >> character) $$$ \"abcde\""
   ]
  },
  {
   "cell_type": "code",
   "execution_count": 38,
   "id": "ecf68a10",
   "metadata": {},
   "outputs": [
    {
     "data": {
      "text/plain": [
       "- : (char * string) option = None\n"
      ]
     },
     "execution_count": 38,
     "metadata": {},
     "output_type": "execute_result"
    }
   ],
   "source": [
    "(exactly 'a' >> exactly 'b' >> character) $$$ \"bacde\""
   ]
  },
  {
   "cell_type": "markdown",
   "id": "d0445aa3",
   "metadata": {},
   "source": [
    "Postopek lahko posplošimo na poljuben niz znakov. Razčlenjevalnik napišemo tako, da besedo `str` razbijemo na seznam znakov `chrs`, nato iz tega naredimo seznam razčlenjevalnikov, ki zaporedoma sprejemajo natanko te znake, nato pa jih vse skupaj verižimo s pomočjo `>>`. Ta razčlenjevalnik bomo uporabljali za prebiranje ključnih besed kot so `while`, `if` in podobno, zato na koncu vrnemo vrednost `()`."
   ]
  },
  {
   "cell_type": "code",
   "execution_count": 39,
   "id": "a05a87c1",
   "metadata": {},
   "outputs": [
    {
     "data": {
      "text/plain": [
       "val word : string -> unit parser = <fun>\n"
      ]
     },
     "execution_count": 39,
     "metadata": {},
     "output_type": "execute_result"
    }
   ],
   "source": [
    "let word str =\n",
    "  let chrs = explode str in\n",
    "  let chr_parsers = List.map exactly chrs in\n",
    "  List.fold_right ( >> ) chr_parsers (return ())"
   ]
  },
  {
   "cell_type": "code",
   "execution_count": 40,
   "id": "71aa3b64",
   "metadata": {},
   "outputs": [
    {
     "data": {
      "text/plain": [
       "- : (unit * string) option = Some ((), \" TRUE DO SKIP\")\n"
      ]
     },
     "execution_count": 40,
     "metadata": {},
     "output_type": "execute_result"
    }
   ],
   "source": [
    "word \"WHILE\" $$$ \"WHILE TRUE DO SKIP\""
   ]
  },
  {
   "cell_type": "code",
   "execution_count": 41,
   "id": "b5757534",
   "metadata": {},
   "outputs": [
    {
     "data": {
      "text/plain": [
       "- : (unit * string) option = None\n"
      ]
     },
     "execution_count": 41,
     "metadata": {},
     "output_type": "execute_result"
    }
   ],
   "source": [
    "word \"WHILE\" $$$ \"IF TRUE THEN SKIP ELSE SKIP\""
   ]
  },
  {
   "cell_type": "markdown",
   "id": "8573d1d5",
   "metadata": {},
   "source": [
    "Podobno lahko s pomočjo `fold_right` zaporedoma z `||` poskusimo vse razčlenjevalnike iz danega seznama:"
   ]
  },
  {
   "cell_type": "code",
   "execution_count": 42,
   "id": "29e600d5",
   "metadata": {},
   "outputs": [
    {
     "data": {
      "text/plain": [
       "val one_of : 'a parser list -> 'a parser = <fun>\n"
      ]
     },
     "execution_count": 42,
     "metadata": {},
     "output_type": "execute_result"
    }
   ],
   "source": [
    "let one_of parsers = List.fold_right ( || ) parsers fail"
   ]
  },
  {
   "cell_type": "code",
   "execution_count": 43,
   "id": "a161d89c",
   "metadata": {},
   "outputs": [
    {
     "data": {
      "text/plain": [
       "- : (unit * string) option = Some ((), \" TRUE DO SKIP\")\n"
      ]
     },
     "execution_count": 43,
     "metadata": {},
     "output_type": "execute_result"
    }
   ],
   "source": [
    "one_of [word \"WHILE\"; word \"IF\"] $$$ \"WHILE TRUE DO SKIP\""
   ]
  },
  {
   "cell_type": "code",
   "execution_count": 44,
   "id": "8742d829",
   "metadata": {},
   "outputs": [
    {
     "data": {
      "text/plain": [
       "- : (unit * string) option = Some ((), \" TRUE THEN SKIP ELSE SKIP\")\n"
      ]
     },
     "execution_count": 44,
     "metadata": {},
     "output_type": "execute_result"
    }
   ],
   "source": [
    "one_of [word \"WHILE\"; word \"IF\"] $$$ \"IF TRUE THEN SKIP ELSE SKIP\""
   ]
  },
  {
   "cell_type": "code",
   "execution_count": 45,
   "id": "de622787",
   "metadata": {},
   "outputs": [
    {
     "data": {
      "text/plain": [
       "- : (unit * string) option = None\n"
      ]
     },
     "execution_count": 45,
     "metadata": {},
     "output_type": "execute_result"
    }
   ],
   "source": [
    "one_of [word \"WHILE\"; word \"IF\"] $$$ \"SKIP\""
   ]
  },
  {
   "cell_type": "markdown",
   "id": "73cd7bf2",
   "metadata": {},
   "source": [
    "Rekurzivno si lahko definiramo tudi razčlenjevalnika `many` in `many1`, ki dani razčlenjevalnik uporabita poljubno mnogokrat oziroma vsaj enkrat, vrneta pa seznam uspešno prebranih vrednosti:"
   ]
  },
  {
   "cell_type": "code",
   "execution_count": 46,
   "id": "f728fda6",
   "metadata": {},
   "outputs": [
    {
     "data": {
      "text/plain": [
       "val many : 'a parser -> 'a list parser = <fun>\n",
       "val many1 : 'a parser -> 'a list parser = <fun>\n"
      ]
     },
     "execution_count": 46,
     "metadata": {},
     "output_type": "execute_result"
    }
   ],
   "source": [
    "let rec many parser = many1 parser || return []\n",
    "\n",
    "and many1 parser =\n",
    "  parser >>= fun v ->\n",
    "  many parser >>= fun vs -> return (v :: vs)"
   ]
  },
  {
   "cell_type": "code",
   "execution_count": 47,
   "id": "15350bda",
   "metadata": {},
   "outputs": [
    {
     "data": {
      "text/plain": [
       "- : (char list * string) option = Some (['1'; '2'; '3'; '4'], \"abc567\")\n"
      ]
     },
     "execution_count": 47,
     "metadata": {},
     "output_type": "execute_result"
    }
   ],
   "source": [
    "many digit $$$ \"1234abc567\""
   ]
  },
  {
   "cell_type": "markdown",
   "id": "0ee237e0",
   "metadata": {},
   "source": [
    "S pomočjo vseh zgoraj naštetih kombinatorjev zdaj veliko lepše napišemo razčlenjevalnik za branje celih števil. Najprej moramo prebrati vsaj eno števko, nato seznam števk združimo v en sam niz, na koncu pa pogoljufamo in s pomočjo vgrajene funkcije to pretvorimo v število."
   ]
  },
  {
   "cell_type": "code",
   "execution_count": 48,
   "id": "3406b41e",
   "metadata": {},
   "outputs": [
    {
     "data": {
      "text/plain": [
       "val integer : int parser = <fun>\n"
      ]
     },
     "execution_count": 48,
     "metadata": {},
     "output_type": "execute_result"
    }
   ],
   "source": [
    "let integer = many1 digit |> map implode |> map int_of_string"
   ]
  },
  {
   "cell_type": "code",
   "execution_count": 49,
   "id": "011808d8",
   "metadata": {},
   "outputs": [
    {
     "data": {
      "text/plain": [
       "- : (int * string) option = Some (123, \"abc\")\n"
      ]
     },
     "execution_count": 49,
     "metadata": {},
     "output_type": "execute_result"
    }
   ],
   "source": [
    "integer $$$ \"123abc\""
   ]
  },
  {
   "cell_type": "markdown",
   "id": "79c5a98d",
   "metadata": {},
   "source": [
    "## Razčlenjevalniki za IMP\n",
    "\n",
    "Razvili smo vsa orodja, ki jih potrebujemo, da preberemo celotno sintakso jezika IMP. Za ločevanje med posameznimi deli bomo uporabili presledke. Pri ključnih besedah bomo zahtevali vsaj enega, okoli operatorjev pa ne nujno:"
   ]
  },
  {
   "cell_type": "code",
   "execution_count": 50,
   "id": "dd820173",
   "metadata": {},
   "outputs": [
    {
     "data": {
      "text/plain": [
       "val spaces : unit parser = <fun>\n"
      ]
     },
     "execution_count": 50,
     "metadata": {},
     "output_type": "execute_result"
    },
    {
     "data": {
      "text/plain": [
       "val spaces1 : unit parser = <fun>\n"
      ]
     },
     "execution_count": 50,
     "metadata": {},
     "output_type": "execute_result"
    }
   ],
   "source": [
    "let spaces = many space >> return ()\n",
    "let spaces1 = many1 space >> return ()"
   ]
  },
  {
   "cell_type": "markdown",
   "id": "f91076c7",
   "metadata": {},
   "source": [
    "Zaradi enostavnosti bomo za večje podizraze zahtevali, da se pojavijo v oklepajih:"
   ]
  },
  {
   "cell_type": "code",
   "execution_count": 51,
   "id": "5d74ffb2",
   "metadata": {},
   "outputs": [
    {
     "data": {
      "text/plain": [
       "val parens : 'a parser -> 'a parser = <fun>\n"
      ]
     },
     "execution_count": 51,
     "metadata": {},
     "output_type": "execute_result"
    }
   ],
   "source": [
    "let parens parser =\n",
    "  exactly '(' >> spaces >> parser >>= fun v -> spaces >> exactly ')' >> return v"
   ]
  },
  {
   "cell_type": "code",
   "execution_count": 52,
   "id": "be44f4fc",
   "metadata": {},
   "outputs": [
    {
     "data": {
      "text/plain": [
       "- : (int * string) option = Some (1234, \"\")\n"
      ]
     },
     "execution_count": 52,
     "metadata": {},
     "output_type": "execute_result"
    }
   ],
   "source": [
    "parens integer $$$ \"(1234)\""
   ]
  },
  {
   "cell_type": "markdown",
   "id": "540b715c",
   "metadata": {},
   "source": [
    "Lokacije se bodo začele z znakom `#`, ki jim bo sledilo ime. To bo sestavljeno iz alfanumeričnih znakov, od katerih mora biti prvi črka."
   ]
  },
  {
   "cell_type": "code",
   "execution_count": 53,
   "id": "41d9097a",
   "metadata": {},
   "outputs": [
    {
     "data": {
      "text/plain": [
       "val ident : string parser = <fun>\n"
      ]
     },
     "execution_count": 53,
     "metadata": {},
     "output_type": "execute_result"
    },
    {
     "ename": "error",
     "evalue": "compile_error",
     "output_type": "error",
     "traceback": [
      "File \"[53]\", line 5, characters 58-66:\n5 | let location = word \"#\" >> ident >>= fun ident -> return (Location ident)\n                                                              ^^^^^^^^\nError: Unbound constructor Location\n"
     ]
    }
   ],
   "source": [
    "let ident =\n",
    "  alpha >>= fun chr ->\n",
    "  many (alpha || digit) >>= fun chrs -> return (implode (chr :: chrs))\n",
    "\n",
    "let location = word \"#\" >> ident >>= fun ident -> return (Location ident)"
   ]
  },
  {
   "cell_type": "code",
   "execution_count": null,
   "id": "fa8d5d9c",
   "metadata": {},
   "outputs": [],
   "source": [
    "location $$$ \"#fact\""
   ]
  },
  {
   "cell_type": "markdown",
   "id": "56ae5b85",
   "metadata": {},
   "source": [
    "Dvojiška operacija je podana s simbolom `op`, njegovim pomenom `f` ter z razčlenjevalnikom argumentov `parser`. Med operacijo in argumentoma so morebitni presledki"
   ]
  },
  {
   "cell_type": "code",
   "execution_count": null,
   "id": "02a1b4ab",
   "metadata": {},
   "outputs": [],
   "source": [
    "let binop parser op f =\n",
    "  parser >>= fun v1 ->\n",
    "  spaces >> word op >> spaces >>\n",
    "  parser >>= fun v2 ->\n",
    "  return (f v1 v2)"
   ]
  },
  {
   "cell_type": "markdown",
   "id": "3aade2a5",
   "metadata": {},
   "source": [
    "Pri razčlenjevalniku za aritmetične izraze sledimo sintaksi. Izrazi so lahko sestavljeni iz aritmetičnih operacij ali atomarni, pri čemer so atomarni izrazi lokacije, konstante ali običajni izrazi v oklepajih."
   ]
  },
  {
   "cell_type": "code",
   "execution_count": null,
   "id": "94b9942b",
   "metadata": {},
   "outputs": [],
   "source": [
    "let rec exp chrs =\n",
    "  one_of\n",
    "    [\n",
    "      binop atomic_exp \"+\" (fun e1 e2 -> Plus (e1, e2));\n",
    "      binop atomic_exp \"-\" (fun e1 e2 -> Minus (e1, e2));\n",
    "      binop atomic_exp \"*\" (fun e1 e2 -> Times (e1, e2));\n",
    "      atomic_exp;\n",
    "    ]\n",
    "    chrs\n",
    "\n",
    "and atomic_exp chrs =\n",
    "  one_of\n",
    "    [\n",
    "      (location >>= fun l -> return (Lookup l));\n",
    "      (integer >>= fun n -> return (Int n));\n",
    "      parens exp;\n",
    "    ]\n",
    "    chrs"
   ]
  },
  {
   "cell_type": "code",
   "execution_count": null,
   "id": "f08e0781",
   "metadata": {},
   "outputs": [],
   "source": [
    "exp $$$ \"1 + 3\""
   ]
  },
  {
   "cell_type": "markdown",
   "id": "bddcac30",
   "metadata": {},
   "source": [
    "Podobno definiramo razčlenjevalnik za Booleove izraze:"
   ]
  },
  {
   "cell_type": "code",
   "execution_count": null,
   "id": "e0827b11",
   "metadata": {},
   "outputs": [],
   "source": [
    "let bexp =\n",
    "  one_of\n",
    "    [\n",
    "      word \"TRUE\" >> return (Bool true);\n",
    "      word \"FALSE\" >> return (Bool false);\n",
    "      binop exp \"=\" (fun e1 e2 -> Equal (e1, e2));\n",
    "      binop exp \"<\" (fun e1 e2 -> Less (e1, e2));\n",
    "      binop exp \">\" (fun e1 e2 -> Greater (e1, e2));\n",
    "    ]"
   ]
  },
  {
   "cell_type": "code",
   "execution_count": null,
   "id": "c19cb5e0",
   "metadata": {},
   "outputs": [],
   "source": [
    "bexp $$$ \"1 + 3 < 2 * 4\""
   ]
  },
  {
   "cell_type": "markdown",
   "id": "762b3f56",
   "metadata": {},
   "source": [
    "Podobno definiramo tudi razčlenjevalnik za ukaze:"
   ]
  },
  {
   "cell_type": "code",
   "execution_count": null,
   "id": "58887253",
   "metadata": {},
   "outputs": [],
   "source": [
    "let rec cmd chrs =\n",
    "  let if_then_else =\n",
    "    word \"IF\" >> spaces1 >> bexp >>= fun b ->\n",
    "    spaces1 >> word \"THEN\" >> spaces1 >> cmd >>= fun c1 ->\n",
    "    spaces1 >> word \"ELSE\" >> spaces1 >> atomic_cmd >>= fun c2 ->\n",
    "    return (IfThenElse (b, c1, c2))\n",
    "  and while_do =\n",
    "    word \"WHILE\" >> spaces1 >> bexp >>= fun b ->\n",
    "    spaces1 >> word \"DO\" >> spaces1 >> atomic_cmd >>= fun c ->\n",
    "    return (WhileDo (b, c))\n",
    "  and seq =\n",
    "    atomic_cmd >>= fun c1 ->\n",
    "    spaces >> word \";\" >> spaces >> cmd >>= fun c2 ->\n",
    "    return (Seq (c1, c2))\n",
    "  in\n",
    "  one_of [ if_then_else; while_do; seq; atomic_cmd ] chrs\n",
    "\n",
    "and atomic_cmd chrs =\n",
    "  let assign =\n",
    "    location >>= fun l ->\n",
    "    spaces >> word \":=\" >> spaces >> exp >>= fun e ->\n",
    "    return (Assign (l, e))\n",
    "  and skip = word \"SKIP\" >> return Skip\n",
    "  in\n",
    "  one_of [ assign; skip; parens cmd ] chrs"
   ]
  },
  {
   "cell_type": "code",
   "execution_count": null,
   "id": "8ca82c8e",
   "metadata": {},
   "outputs": [],
   "source": [
    "cmd $$$ \"IF 3 < 4 THEN SKIP ELSE SKIP\""
   ]
  },
  {
   "cell_type": "markdown",
   "id": "7a30732d",
   "metadata": {},
   "source": [
    "Vsaka IMP datoteka je sestavljena iz enega samega ukaza (ki je seveda lahko sestavljen iz več ukazov, ločenih s podpičjem). Da preberemo celotno datoteko, torej le pokličemo razčlenjevalnik `cmd`. Če nam ni ostalo nič neprebranih znakov, poženemo `eval_cmd` na praznem seznamu, sicer pa program zavrnemo:"
   ]
  },
  {
   "cell_type": "code",
   "execution_count": null,
   "id": "e82409b3",
   "metadata": {},
   "outputs": [],
   "source": [
    "let run str =\n",
    "  match str |> String.trim |> explode |> cmd with\n",
    "  | Some (c, []) -> eval_cmd [] c\n",
    "  | Some (_, _ :: _) | None -> failwith \"Parsing error\""
   ]
  },
  {
   "cell_type": "code",
   "execution_count": null,
   "id": "344690f0",
   "metadata": {},
   "outputs": [],
   "source": [
    "run \"#n := 10; #fact := 1; WHILE #n > 0 DO ( #fact := #fact * #n; #n := #n - 1 )\""
   ]
  },
  {
   "cell_type": "markdown",
   "id": "08fd3ff9",
   "metadata": {},
   "source": [
    "## Vaje\n",
    "\n",
    "### Naloga 1\n",
    "\n",
    "Izboljšajte razčlenjevalnik, da bo dopolnil nepopolne pogojne stavke. Ukaz `IF b THEN c` naj se prevede v enako sintaktično drevo kot `IF b THEN c ELSE SKIP`."
   ]
  }
 ],
 "metadata": {
  "jupytext": {
   "text_representation": {
    "extension": ".md",
    "format_name": "myst",
    "format_version": 0.12,
    "jupytext_version": "1.8.0"
   }
  },
  "kernelspec": {
   "display_name": "OCaml 4.11",
   "language": "OCaml",
   "name": "ocaml-jupyter"
  },
  "language_info": {
   "codemirror_mode": "text/x-ocaml",
   "file_extension": ".ml",
   "mimetype": "text/x-ocaml",
   "name": "OCaml",
   "nbconverter_exporter": null,
   "pygments_lexer": "OCaml",
   "version": "4.14.1"
  },
  "source_map": [
   12,
   30,
   35,
   39,
   41,
   45,
   48,
   52,
   68,
   72,
   76,
   78,
   82,
   87,
   91,
   93,
   99,
   103,
   105,
   109,
   113,
   115,
   119,
   125,
   129,
   131,
   135,
   143,
   147,
   149,
   153,
   159,
   165,
   169,
   171,
   175,
   177,
   183,
   187,
   189,
   193,
   196,
   200,
   204,
   206,
   210,
   212,
   216,
   220,
   222,
   226,
   239,
   243,
   247,
   249,
   253,
   257,
   261,
   263,
   267,
   274,
   278,
   280,
   284,
   288,
   292,
   296,
   298,
   302,
   310,
   312,
   316,
   320,
   322,
   328,
   331,
   335,
   340,
   342,
   346,
   354,
   356,
   360,
   366,
   370,
   391,
   393,
   397,
   409,
   411,
   415,
   443,
   445,
   449,
   456,
   458
  ]
 },
 "nbformat": 4,
 "nbformat_minor": 5
}