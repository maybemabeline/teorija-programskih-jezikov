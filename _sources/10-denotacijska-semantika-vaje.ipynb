{
 "cells": [
  {
   "cell_type": "markdown",
   "id": "7b37c7e9",
   "metadata": {},
   "source": [
    "# Vaje"
   ]
  },
  {
   "cell_type": "code",
   "execution_count": 1,
   "id": "9c88a650",
   "metadata": {
    "tags": [
     "remove-cell",
     "remove-stdout"
    ]
   },
   "outputs": [],
   "source": [
    "(* Ko se v Jupytru prvič požene OCaml, program Findlib izpiše neko sporočilo.\n",
    "   Da se to sporočilo ne bi videlo v zapiskih, je tu ta celica, ki sproži izpis,\n",
    "   vendar ima nastavljeno, da je v zapiskih v celoti skrita. *)"
   ]
  },
  {
   "cell_type": "markdown",
   "id": "8d8b7429",
   "metadata": {},
   "source": [
    "## Naloga 1\n",
    "\n",
    "Izpeljite semantiko naslednjih programov:\n",
    "\n",
    "1. `|- fun x -> if x < 0 then 0 else 2 * x : int -> int`\n",
    "2. `|- fun x -> (fun y -> x > y) : int -> int -> bool`\n",
    "\n",
    "Preverite, da je pomen sledečega program enak pomenu programa 1.\n",
    "\n",
    "`|- fun a -> (fun y -> if y > 0 then y else 0) (a + a) : int -> int`\n",
    "\n",
    "## Naloga 2\n",
    "\n",
    "Denotacijsko semantiko dopolnite za pare in vsote in izpeljite pomen programa:\n",
    "\n",
    "`|- Fst (Inl 2, false): int + (bool * bool)`\n",
    "\n",
    "## Naloga 3\n",
    "\n",
    "Definirajte denotacijsko semantiko za jezik IMP brez zanke while. Predpostavimo, da imamo fiksno množico vseh lokacij $Loc$. Stanje lokacij predstavimo s funkcijo $s$ tipa $State := Loc \\to \\mathbb{Z}$.\n",
    "\n",
    "Pomen izrazov modelirajte kot:\n",
    "\n",
    "- (aritmetični izrazi) $[[e]] : State \\to \\mathbb{Z}$,\n",
    "- (logični izrazi) $[[b]] : State \\to \\{tt,ff\\}$\n",
    "- (ukazi) $[[c]] : State \\to State$\n",
    "\n",
    "Premislite, zakaj smo izpustili zanko while."
   ]
  }
 ],
 "metadata": {
  "jupytext": {
   "text_representation": {
    "extension": ".md",
    "format_name": "myst",
    "format_version": 0.12,
    "jupytext_version": "1.8.0"
   }
  },
  "kernelspec": {
   "display_name": "OCaml 4.11",
   "language": "OCaml",
   "name": "ocaml-jupyter"
  },
  "language_info": {
   "codemirror_mode": "text/x-ocaml",
   "file_extension": ".ml",
   "mimetype": "text/x-ocaml",
   "name": "OCaml",
   "nbconverter_exporter": null,
   "pygments_lexer": "OCaml",
   "version": "4.14.1"
  },
  "source_map": [
   12,
   16,
   22
  ]
 },
 "nbformat": 4,
 "nbformat_minor": 5
}